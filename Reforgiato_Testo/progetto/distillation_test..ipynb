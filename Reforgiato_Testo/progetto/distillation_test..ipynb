{
 "cells": [
  {
   "cell_type": "code",
   "execution_count": null,
   "metadata": {},
   "outputs": [],
   "source": [
    "# ! pip3 install torch torchvision torchaudio --index-url https://download.pytorch.org/whl/cu118\n",
    "# ! pip3 install einops\n",
    "# ! pip3 install vit_pytorch\n",
    "# ! pip3 install pandas\n",
    "# ! pip3 install scikit-learn\n",
    "# ! pip3 install albumentations\n",
    "# ! pip3 install matplotlib"
   ]
  },
  {
   "cell_type": "code",
   "execution_count": 1,
   "metadata": {},
   "outputs": [],
   "source": [
    "import torch\n",
    "from torch import nn\n",
    "import torch.nn.functional as F\n",
    "from einops import repeat\n",
    "from einops.layers.torch import Rearrange\n",
    "from vit_pytorch.vit import Transformer\n",
    "\n",
    "import os\n",
    "import pandas as pd\n",
    "\n",
    "from sklearn.model_selection import train_test_split\n",
    "\n",
    "import albumentations as A\n",
    "from albumentations.pytorch import ToTensorV2\n",
    "\n",
    "from torch.utils.data import Dataset, DataLoader\n",
    "\n",
    "import numpy as np\n"
   ]
  },
  {
   "cell_type": "code",
   "execution_count": 10,
   "metadata": {},
   "outputs": [
    {
     "name": "stdout",
     "output_type": "stream",
     "text": [
      "['Apple', 'Banana', 'Carambola', 'Guava', 'Kiwi', 'Mango', 'Orange', 'Peach', 'Pear', 'Persimmon', 'Pitaya', 'Plum', 'Pomegranate', 'Tomatoes', 'muskmelon']\n"
     ]
    }
   ],
   "source": [
    "import datasets_utils\n",
    "# train_loader, val_loader, test_loader, classes = datasets_utils.get_CUB_loaders(BATCH_SIZE=16, SEED=42, SPLITS=[0.8,0.1,0.1])\n",
    "train_loader, val_loader, test_loader, classes , img_size = datasets_utils.get_vegetables_dataloader(BATCH_SIZE=256, SEED=42, SPLITS=[0.50,0.25,0.25])\n",
    "N_CLASSES = len(classes)"
   ]
  },
  {
   "cell_type": "code",
   "execution_count": 11,
   "metadata": {},
   "outputs": [],
   "source": [
    "device = torch.device('cuda' if torch.cuda.is_available() else 'cpu')"
   ]
  },
  {
   "cell_type": "markdown",
   "metadata": {},
   "source": []
  },
  {
   "cell_type": "code",
   "execution_count": 12,
   "metadata": {},
   "outputs": [
    {
     "name": "stderr",
     "output_type": "stream",
     "text": [
      "c:\\Users\\Jacopo\\miniconda3\\envs\\dl_refo_project\\lib\\site-packages\\torchvision\\models\\_utils.py:208: UserWarning: The parameter 'pretrained' is deprecated since 0.13 and may be removed in the future, please use 'weights' instead.\n",
      "  warnings.warn(\n",
      "c:\\Users\\Jacopo\\miniconda3\\envs\\dl_refo_project\\lib\\site-packages\\torchvision\\models\\_utils.py:223: UserWarning: Arguments other than a weight enum or `None` for 'weights' are deprecated since 0.13 and may be removed in the future. The current behavior is equivalent to passing `weights=ResNet50_Weights.IMAGENET1K_V1`. You can also use `weights=ResNet50_Weights.DEFAULT` to get the most up-to-date weights.\n",
      "  warnings.warn(msg)\n"
     ]
    }
   ],
   "source": [
    "from torchvision.models import resnet50\n",
    "\n",
    "from vit_pytorch.distill import DistillableViT, DistillWrapper\n",
    "\n",
    "\n",
    "teacher = resnet50(pretrained = True)\n",
    "# replace the head of the teacher with a new fc with N_CLASSES as neurons\n",
    "teacher.fc = nn.Linear(teacher.fc.in_features, N_CLASSES)\n",
    "teacher = teacher.to(device)\n",
    "\n",
    "student_vit = DistillableViT(\n",
    "    image_size = img_size,\n",
    "    patch_size = 32,\n",
    "    num_classes = N_CLASSES, # TODO:This doesn't seem working well\n",
    "    dim = 1024,\n",
    "    depth = 6,\n",
    "    heads = 8,\n",
    "    mlp_dim = 2048,\n",
    "    dropout = 0.1,\n",
    "    emb_dropout = 0.1\n",
    ")\n",
    "student_vit = student_vit.to(device)\n",
    "\n",
    "distiller = DistillWrapper(\n",
    "    student = student_vit,\n",
    "    teacher = teacher,\n",
    "    temperature = 3,           # temperature of distillation\n",
    "    alpha = 0.5,               # trade between main loss and distillation loss\n",
    "    hard = False               # whether to use soft or hard distillation\n",
    ")\n",
    "distiller = distiller.to(device)\n",
    "\n",
    "# img = torch.randn(124, 3, 256, 256)\n",
    "# img = img.to(device)\n",
    "# labels = torch.randint(0, 16, (124,))\n",
    "# labels = labels.to(device)\n",
    "\n",
    "# loss = distiller(img, labels)\n",
    "# loss.backward()"
   ]
  },
  {
   "cell_type": "code",
   "execution_count": 13,
   "metadata": {},
   "outputs": [],
   "source": [
    "#train loop\n",
    "def train(model,train_loader,val_loader,epochs=10,lr=1e-2):\n",
    "    optimizer = torch.optim.Adam(model.parameters(),lr=lr)\n",
    "    train_loss = []\n",
    "    val_loss = []\n",
    "    for epoch in range(epochs):\n",
    "        model.train()\n",
    "        train_loss_ = []\n",
    "        val_loss_ = []\n",
    "        for i,(images,classes) in enumerate(train_loader):\n",
    "            images = images.to(device)\n",
    "            classes = classes.to(device)\n",
    "            optimizer.zero_grad()\n",
    "            \n",
    "            # print(\"images shape: \", images.shape)\n",
    "            # print(\"classes shape: \", classes.shape)\n",
    "            loss = model(images, classes)\n",
    "            loss.backward()\n",
    "            optimizer.step()\n",
    "            train_loss_.append(loss.item())\n",
    "            # #every 100 batches, print the loss\n",
    "            # if i%80 == 0:\n",
    "            #     #transfer weights from model to maebellino model\n",
    "            #     mae_bellino.load_state_dict(model.state_dict())\n",
    "            #     #get the output image\n",
    "            #     output = mae_bellino(images) \n",
    "            #     o = output[0].cpu().detach().numpy().transpose(1,2,0)\n",
    "            #     #apply relu\n",
    "            #     o = np.maximum(o,0)\n",
    "            #     o = np.minimum(o,1)\n",
    "            #     plt.imsave(f'outputs/epoch_{epoch+1}_batch_{i}.png',o)\n",
    "        train_loss.append(np.mean(train_loss_))\n",
    "        \n",
    "        # model.eval()\n",
    "        # with torch.no_grad():\n",
    "        #     for i,(images,classes) in enumerate(val_loader):\n",
    "                \n",
    "        #         images = images.to(device)\n",
    "        #         classes = classes.to(device)\n",
    "        #         loss = model(images, classes)\n",
    "        #         val_loss_.append(loss.item())\n",
    "                \n",
    "        #     val_loss.append(np.mean(val_loss_))\n",
    "        # print(f'Epoch: {epoch+1}, Train Loss: {train_loss[-1]}, Val Loss: {val_loss[-1]}')\n",
    "        print(f'Epoch: {epoch+1}, Train Loss: {train_loss[-1]}')\n",
    "        #save the last output image on the disk\n",
    "        #save the model\n",
    "        torch.save(model.state_dict(),f'jacoExperiments/distil.pth')\n",
    "        \n",
    "    return train_loss,val_loss"
   ]
  },
  {
   "cell_type": "code",
   "execution_count": 14,
   "metadata": {},
   "outputs": [
    {
     "name": "stdout",
     "output_type": "stream",
     "text": [
      "Epoch: 1, Train Loss: 0.5619383800861447\n",
      "Epoch: 2, Train Loss: 0.1446801814315624\n",
      "Epoch: 3, Train Loss: 0.09147498804296172\n"
     ]
    }
   ],
   "source": [
    "train_loss,val_loss = train(distiller, train_loader,val_loader,epochs=3,lr=1e-4)"
   ]
  },
  {
   "cell_type": "code",
   "execution_count": null,
   "metadata": {},
   "outputs": [],
   "source": [
    "# pred = student_vit(test_loader) # (2, 1000)\n",
    "student_vit.eval()\n",
    "with torch.no_grad():\n",
    "    val_loss_=[]\n",
    "    for i,(images,classes) in enumerate(val_loader):\n",
    "        images = images.to(device)\n",
    "        classes = classes.to(device)\n",
    "        pred = student_vit(images)\n",
    "        \n",
    "        # Get the maximum predicted class\n",
    "        pred = pred.argmax(dim=1, keepdim=True)\n",
    "        print(pred)\n",
    "        \n",
    "    val_loss.append(np.mean(val_loss_))\n",
    "print(f'Test Loss: {val_loss[-1]}')\n",
    "        \n"
   ]
  },
  {
   "cell_type": "code",
   "execution_count": null,
   "metadata": {},
   "outputs": [],
   "source": [
    "# The DistillableViT class is identical to ViT except for how the forward pass is handled, \n",
    "# so you should be able to load the parameters back to ViT after you have completed distillation training.\n",
    "\n",
    "# TODO: It might be uselful if we want to use a custom vit\n",
    "student_vit = student_vit.to_vit()\n",
    "type(student_vit) # <class 'vit_pytorch.vit_pytorch.ViT'>"
   ]
  },
  {
   "cell_type": "code",
   "execution_count": null,
   "metadata": {},
   "outputs": [],
   "source": []
  }
 ],
 "metadata": {
  "kernelspec": {
   "display_name": "tf",
   "language": "python",
   "name": "python3"
  },
  "language_info": {
   "codemirror_mode": {
    "name": "ipython",
    "version": 3
   },
   "file_extension": ".py",
   "mimetype": "text/x-python",
   "name": "python",
   "nbconvert_exporter": "python",
   "pygments_lexer": "ipython3",
   "version": "3.10.10"
  },
  "orig_nbformat": 4
 },
 "nbformat": 4,
 "nbformat_minor": 2
}
