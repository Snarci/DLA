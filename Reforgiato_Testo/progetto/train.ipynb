{
 "cells": [
  {
   "cell_type": "code",
   "execution_count": 1,
   "metadata": {},
   "outputs": [
    {
     "name": "stderr",
     "output_type": "stream",
     "text": [
      "c:\\Users\\lucat\\AppData\\Local\\Programs\\Python\\Python39\\lib\\site-packages\\tqdm\\auto.py:22: TqdmWarning: IProgress not found. Please update jupyter and ipywidgets. See https://ipywidgets.readthedocs.io/en/stable/user_install.html\n",
      "  from .autonotebook import tqdm as notebook_tqdm\n"
     ]
    }
   ],
   "source": [
    "from dataset_functions import from_path_to_dataloader\n",
    "import torch\n",
    "import torch.nn as nn\n",
    "import torch.nn.functional as F\n",
    "import transformers\n",
    "import os\n",
    "import numpy as np\n",
    "import pandas as pd\n",
    "from tqdm import tqdm\n",
    "#plot   \n",
    "import matplotlib.pyplot as plt"
   ]
  },
  {
   "cell_type": "code",
   "execution_count": 2,
   "metadata": {},
   "outputs": [
    {
     "name": "stderr",
     "output_type": "stream",
     "text": [
      "Some weights of the model checkpoint at google/vit-base-patch16-224-in21k were not used when initializing ViTForImageClassification: ['pooler.dense.bias', 'pooler.dense.weight']\n",
      "- This IS expected if you are initializing ViTForImageClassification from the checkpoint of a model trained on another task or with another architecture (e.g. initializing a BertForSequenceClassification model from a BertForPreTraining model).\n",
      "- This IS NOT expected if you are initializing ViTForImageClassification from the checkpoint of a model that you expect to be exactly identical (initializing a BertForSequenceClassification model from a BertForSequenceClassification model).\n",
      "Some weights of ViTForImageClassification were not initialized from the model checkpoint at google/vit-base-patch16-224-in21k and are newly initialized: ['classifier.bias', 'classifier.weight']\n",
      "You should probably TRAIN this model on a down-stream task to be able to use it for predictions and inference.\n"
     ]
    }
   ],
   "source": [
    "#create the dataloaders\n",
    "path_train = './chaoyang-data/train'\n",
    "path_test = './chaoyang-data/test'\n",
    "batch_size = 32\n",
    "\n",
    "train_dataloader = from_path_to_dataloader(path_train, batch_size, True, True)\n",
    "test_dataloader = from_path_to_dataloader(path_test, batch_size, False, False)\n",
    "\n",
    "#split the train dataset into train and validation\n",
    "train_size = int(0.8 * len(train_dataloader.dataset))\n",
    "val_size = len(train_dataloader.dataset) - train_size\n",
    "train_dataset, val_dataset = torch.utils.data.random_split(train_dataloader.dataset, [train_size, val_size])\n",
    "train_dataloader = torch.utils.data.DataLoader(train_dataset, batch_size=batch_size, shuffle=True)\n",
    "val_dataloader = torch.utils.data.DataLoader(val_dataset, batch_size=batch_size, shuffle=False)\n",
    "\n",
    "#use the GPU if available\n",
    "\n",
    "device = torch.device(\"cuda\" if torch.cuda.is_available() else \"cpu\")\n",
    "#use huggingface's pretrained model for image classification vit-base-patch16-224\n",
    "model = transformers.ViTForImageClassification.from_pretrained('google/vit-base-patch16-224-in21k', num_labels=1000)\n",
    "# use huggingface's pretrained model for image classification swin-base-patch4-window7-224\n",
    "#model = transformers.Swinv2Model.from_pretrained(\"microsoft/swinv2-tiny-patch4-window8-256\")\n",
    "# change the number of output classes to 4\n",
    "#model.classifier = nn.Linear(1024, 4)\n",
    "model.classifier = nn.Linear(768, 4)\n",
    "model.to(device)\n",
    "#use the AdamW optimizer\n",
    "optimizer = torch.optim.AdamW(model.parameters(), lr=1e-5, weight_decay=1e-4)\n",
    "#use the cross entropy loss\n",
    "criterion = nn.CrossEntropyLoss()\n"
   ]
  },
  {
   "cell_type": "code",
   "execution_count": 3,
   "metadata": {},
   "outputs": [],
   "source": [
    "from tqdm import tqdm\n",
    "#import classification_report from sklearn\n",
    "from sklearn.metrics import classification_report\n",
    "def evaluate(model, val_dataloader, criterion):\n",
    "    #initialize the loss and the number of correct predictions\n",
    "    val_loss = 0\n",
    "    correct = 0\n",
    "    predictions=[]\n",
    "    labels=[]\n",
    "    #for each batch\n",
    "    with torch.no_grad():\n",
    "        for data, target in tqdm(val_dataloader):\n",
    "            #send the data and the target to the GPU\n",
    "            data, target = data.to(device), target.to(device)\n",
    "            #forward pass\n",
    "            output = model(data)\n",
    "            #compute the loss\n",
    "            val_loss += criterion(output.logits, target).item()\n",
    "            #compute the number of correct predictions\n",
    "            pred = output.logits.argmax(dim=1, keepdim=True)\n",
    "            #append the predictions\n",
    "            predictions.extend(pred.cpu().numpy().tolist())\n",
    "            #append the labels\n",
    "            labels.extend(target.cpu().numpy().tolist())\n",
    "\n",
    "    #compute the average loss\n",
    "    val_loss /= len(val_dataloader.dataset)\n",
    "    #return the average loss and the number of correct predictions\n",
    "    #print the classification report\n",
    "    print(classification_report(labels, predictions))\n",
    "    return val_loss, correct"
   ]
  },
  {
   "cell_type": "code",
   "execution_count": 4,
   "metadata": {},
   "outputs": [],
   "source": [
    "\n",
    "#train the model\n",
    "output_path = './models/'\n",
    "def train(model, train_dataloader, val_dataloader, optimizer, criterion, epochs):\n",
    "    #set the model in training mode\n",
    "    model.train()\n",
    "    train_losses = []\n",
    "    val_losses = []\n",
    "    #for each epoch\n",
    "    for epoch in range(epochs):\n",
    "        train_losses_inner = []\n",
    "        loss=0\n",
    "        #for each batch\n",
    "        for (data, target) in tqdm(train_dataloader):\n",
    "            #send the data and the target to the GPU\n",
    "            data, target = data.to(device), target.to(device)\n",
    "            optimizer.zero_grad()\n",
    "            output = model(data)\n",
    "            loss = criterion(output.logits, target)\n",
    "            train_losses_inner.append(loss.cpu().detach().numpy())\n",
    "            loss += loss.item()\n",
    "            loss.backward()\n",
    "            optimizer.step()\n",
    "        train_losses.append(np.mean(train_losses_inner))\n",
    "        #evaluate the model on the validation set\n",
    "        print('Epoch: ', epoch)\n",
    "        print('Validation set:')\n",
    "        val_loss, val_accuracy = evaluate(model, val_dataloader, criterion)\n",
    "        val_losses.append(val_loss)\n",
    "        print('Test set:')\n",
    "        test_loss, test_accuracy = evaluate(model, test_dataloader, criterion)\n",
    "        #if the path doesn't exist, create it\n",
    "        if not os.path.exists(output_path):\n",
    "            os.makedirs(output_path)\n",
    "        #save the model\n",
    "        torch.save(model.state_dict(), output_path + 'model_' + str(epoch) + '.pth')\n",
    "    #plot the train and validation losses after transferring to cpu\n",
    "    \n",
    "\n",
    "    print(train_losses)\n",
    "    plt.plot(train_losses, label='train loss')\n",
    "    plt.plot(val_losses, label='validation loss')\n",
    "    plt.legend()\n",
    "    plt.show()\n",
    "    \n",
    "\n",
    "        "
   ]
  },
  {
   "cell_type": "code",
   "execution_count": 5,
   "metadata": {},
   "outputs": [
    {
     "name": "stderr",
     "output_type": "stream",
     "text": [
      "100%|██████████| 141/141 [02:18<00:00,  1.02it/s]\n"
     ]
    },
    {
     "name": "stdout",
     "output_type": "stream",
     "text": [
      "Epoch:  0\n",
      "Validation set:\n"
     ]
    },
    {
     "name": "stderr",
     "output_type": "stream",
     "text": [
      "100%|██████████| 36/36 [00:25<00:00,  1.39it/s]\n"
     ]
    },
    {
     "name": "stdout",
     "output_type": "stream",
     "text": [
      "              precision    recall  f1-score   support\n",
      "\n",
      "           0       0.67      0.75      0.71       283\n",
      "           1       0.53      0.35      0.42       297\n",
      "           2       0.77      0.95      0.85       272\n",
      "           3       0.66      0.67      0.66       272\n",
      "\n",
      "    accuracy                           0.67      1124\n",
      "   macro avg       0.66      0.68      0.66      1124\n",
      "weighted avg       0.66      0.67      0.66      1124\n",
      "\n",
      "Test set:\n"
     ]
    },
    {
     "name": "stderr",
     "output_type": "stream",
     "text": [
      "100%|██████████| 67/67 [01:06<00:00,  1.01it/s]\n"
     ]
    },
    {
     "name": "stdout",
     "output_type": "stream",
     "text": [
      "              precision    recall  f1-score   support\n",
      "\n",
      "           0       0.80      0.68      0.73       705\n",
      "           1       0.40      0.35      0.37       321\n",
      "           2       0.84      0.98      0.90       840\n",
      "           3       0.69      0.72      0.70       273\n",
      "\n",
      "    accuracy                           0.75      2139\n",
      "   macro avg       0.68      0.68      0.68      2139\n",
      "weighted avg       0.74      0.75      0.74      2139\n",
      "\n"
     ]
    },
    {
     "name": "stderr",
     "output_type": "stream",
     "text": [
      "100%|██████████| 141/141 [01:24<00:00,  1.67it/s]\n"
     ]
    },
    {
     "name": "stdout",
     "output_type": "stream",
     "text": [
      "Epoch:  1\n",
      "Validation set:\n"
     ]
    },
    {
     "name": "stderr",
     "output_type": "stream",
     "text": [
      "100%|██████████| 36/36 [00:15<00:00,  2.30it/s]\n"
     ]
    },
    {
     "name": "stdout",
     "output_type": "stream",
     "text": [
      "              precision    recall  f1-score   support\n",
      "\n",
      "           0       0.69      0.82      0.75       283\n",
      "           1       0.62      0.34      0.44       297\n",
      "           2       0.86      0.93      0.90       272\n",
      "           3       0.63      0.78      0.70       272\n",
      "\n",
      "    accuracy                           0.71      1124\n",
      "   macro avg       0.70      0.72      0.70      1124\n",
      "weighted avg       0.70      0.71      0.69      1124\n",
      "\n",
      "Test set:\n"
     ]
    },
    {
     "name": "stderr",
     "output_type": "stream",
     "text": [
      "100%|██████████| 67/67 [00:29<00:00,  2.26it/s]\n"
     ]
    },
    {
     "name": "stdout",
     "output_type": "stream",
     "text": [
      "              precision    recall  f1-score   support\n",
      "\n",
      "           0       0.81      0.77      0.79       705\n",
      "           1       0.49      0.33      0.40       321\n",
      "           2       0.90      0.97      0.94       840\n",
      "           3       0.64      0.79      0.71       273\n",
      "\n",
      "    accuracy                           0.79      2139\n",
      "   macro avg       0.71      0.72      0.71      2139\n",
      "weighted avg       0.77      0.79      0.78      2139\n",
      "\n"
     ]
    },
    {
     "name": "stderr",
     "output_type": "stream",
     "text": [
      "100%|██████████| 141/141 [01:24<00:00,  1.67it/s]\n"
     ]
    },
    {
     "name": "stdout",
     "output_type": "stream",
     "text": [
      "Epoch:  2\n",
      "Validation set:\n"
     ]
    },
    {
     "name": "stderr",
     "output_type": "stream",
     "text": [
      "100%|██████████| 36/36 [00:15<00:00,  2.30it/s]\n"
     ]
    },
    {
     "name": "stdout",
     "output_type": "stream",
     "text": [
      "              precision    recall  f1-score   support\n",
      "\n",
      "           0       0.68      0.87      0.76       283\n",
      "           1       0.65      0.48      0.55       297\n",
      "           2       0.90      0.92      0.91       272\n",
      "           3       0.74      0.72      0.73       272\n",
      "\n",
      "    accuracy                           0.74      1124\n",
      "   macro avg       0.74      0.75      0.74      1124\n",
      "weighted avg       0.74      0.74      0.74      1124\n",
      "\n",
      "Test set:\n"
     ]
    },
    {
     "name": "stderr",
     "output_type": "stream",
     "text": [
      "100%|██████████| 67/67 [00:29<00:00,  2.26it/s]\n"
     ]
    },
    {
     "name": "stdout",
     "output_type": "stream",
     "text": [
      "              precision    recall  f1-score   support\n",
      "\n",
      "           0       0.77      0.86      0.81       705\n",
      "           1       0.57      0.39      0.46       321\n",
      "           2       0.92      0.96      0.94       840\n",
      "           3       0.79      0.74      0.77       273\n",
      "\n",
      "    accuracy                           0.81      2139\n",
      "   macro avg       0.76      0.74      0.75      2139\n",
      "weighted avg       0.80      0.81      0.80      2139\n",
      "\n"
     ]
    },
    {
     "name": "stderr",
     "output_type": "stream",
     "text": [
      "100%|██████████| 141/141 [01:24<00:00,  1.67it/s]\n"
     ]
    },
    {
     "name": "stdout",
     "output_type": "stream",
     "text": [
      "Epoch:  3\n",
      "Validation set:\n"
     ]
    },
    {
     "name": "stderr",
     "output_type": "stream",
     "text": [
      "100%|██████████| 36/36 [00:15<00:00,  2.29it/s]\n"
     ]
    },
    {
     "name": "stdout",
     "output_type": "stream",
     "text": [
      "              precision    recall  f1-score   support\n",
      "\n",
      "           0       0.72      0.84      0.78       283\n",
      "           1       0.69      0.57      0.62       297\n",
      "           2       0.94      0.91      0.93       272\n",
      "           3       0.77      0.79      0.78       272\n",
      "\n",
      "    accuracy                           0.78      1124\n",
      "   macro avg       0.78      0.78      0.78      1124\n",
      "weighted avg       0.78      0.78      0.77      1124\n",
      "\n",
      "Test set:\n"
     ]
    },
    {
     "name": "stderr",
     "output_type": "stream",
     "text": [
      "100%|██████████| 67/67 [00:29<00:00,  2.25it/s]\n"
     ]
    },
    {
     "name": "stdout",
     "output_type": "stream",
     "text": [
      "              precision    recall  f1-score   support\n",
      "\n",
      "           0       0.81      0.82      0.81       705\n",
      "           1       0.55      0.50      0.52       321\n",
      "           2       0.94      0.96      0.95       840\n",
      "           3       0.74      0.77      0.76       273\n",
      "\n",
      "    accuracy                           0.82      2139\n",
      "   macro avg       0.76      0.76      0.76      2139\n",
      "weighted avg       0.81      0.82      0.82      2139\n",
      "\n"
     ]
    },
    {
     "name": "stderr",
     "output_type": "stream",
     "text": [
      "100%|██████████| 141/141 [01:24<00:00,  1.67it/s]\n"
     ]
    },
    {
     "name": "stdout",
     "output_type": "stream",
     "text": [
      "Epoch:  4\n",
      "Validation set:\n"
     ]
    },
    {
     "name": "stderr",
     "output_type": "stream",
     "text": [
      "100%|██████████| 36/36 [00:15<00:00,  2.29it/s]\n"
     ]
    },
    {
     "name": "stdout",
     "output_type": "stream",
     "text": [
      "              precision    recall  f1-score   support\n",
      "\n",
      "           0       0.81      0.80      0.80       283\n",
      "           1       0.75      0.53      0.62       297\n",
      "           2       0.91      0.96      0.93       272\n",
      "           3       0.67      0.86      0.75       272\n",
      "\n",
      "    accuracy                           0.78      1124\n",
      "   macro avg       0.78      0.79      0.78      1124\n",
      "weighted avg       0.78      0.78      0.77      1124\n",
      "\n",
      "Test set:\n"
     ]
    },
    {
     "name": "stderr",
     "output_type": "stream",
     "text": [
      "100%|██████████| 67/67 [00:29<00:00,  2.25it/s]\n"
     ]
    },
    {
     "name": "stdout",
     "output_type": "stream",
     "text": [
      "              precision    recall  f1-score   support\n",
      "\n",
      "           0       0.85      0.74      0.79       705\n",
      "           1       0.57      0.48      0.52       321\n",
      "           2       0.92      0.98      0.95       840\n",
      "           3       0.62      0.81      0.70       273\n",
      "\n",
      "    accuracy                           0.81      2139\n",
      "   macro avg       0.74      0.75      0.74      2139\n",
      "weighted avg       0.81      0.81      0.80      2139\n",
      "\n",
      "[1.053664, 0.72990793, 0.62500024, 0.56193453, 0.49874917]\n"
     ]
    },
    {
     "data": {
      "image/png": "[encoded data removed]",
      "text/plain": [
       "<Figure size 640x480 with 1 Axes>"
      ]
     },
     "metadata": {},
     "output_type": "display_data"
    }
   ],
   "source": [
    "\n",
    "#train the model\n",
    "#train(model, val_dataloader, val_dataloader, optimizer, criterion, 20)\n",
    "\n",
    "train(model, train_dataloader, val_dataloader, optimizer, criterion, 5)"
   ]
  }
 ],
 "metadata": {
  "kernelspec": {
   "display_name": "Python 3",
   "language": "python",
   "name": "python3"
  },
  "language_info": {
   "codemirror_mode": {
    "name": "ipython",
    "version": 3
   },
   "file_extension": ".py",
   "mimetype": "text/x-python",
   "name": "python",
   "nbconvert_exporter": "python",
   "pygments_lexer": "ipython3",
   "version": "3.9.0"
  },
  "orig_nbformat": 4
 },
 "nbformat": 4,
 "nbformat_minor": 2
}
