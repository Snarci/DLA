{
 "cells": [
  {
   "cell_type": "code",
   "execution_count": 1,
   "metadata": {},
   "outputs": [
    {
     "name": "stderr",
     "output_type": "stream",
     "text": [
      "c:\\Users\\lucat\\AppData\\Local\\Programs\\Python\\Python39\\lib\\site-packages\\tqdm\\auto.py:22: TqdmWarning: IProgress not found. Please update jupyter and ipywidgets. See https://ipywidgets.readthedocs.io/en/stable/user_install.html\n",
      "  from .autonotebook import tqdm as notebook_tqdm\n"
     ]
    }
   ],
   "source": [
    "from dataset_functions import from_path_to_dataloader\n",
    "import torch\n",
    "import torch.nn as nn\n",
    "import torch.nn.functional as F\n",
    "import transformers\n",
    "import os\n",
    "import numpy as np\n",
    "import pandas as pd\n",
    "from tqdm import tqdm\n",
    "#plot   \n",
    "import matplotlib.pyplot as plt"
   ]
  },
  {
   "cell_type": "code",
   "execution_count": 2,
   "metadata": {},
   "outputs": [],
   "source": [
    "#create the dataloaders\n",
    "path_train = './chaoyang-data/train'\n",
    "path_test = './chaoyang-data/test'\n",
    "batch_size = 16\n",
    "\n",
    "train_dataloader = from_path_to_dataloader(path_train, batch_size, True, True)\n",
    "test_dataloader = from_path_to_dataloader(path_test, batch_size, False, False)\n",
    "\n",
    "#split the train dataset into train and validation\n",
    "train_size = int(0.9 * len(train_dataloader.dataset))\n",
    "val_size = len(train_dataloader.dataset) - train_size\n",
    "train_dataset, val_dataset = torch.utils.data.random_split(train_dataloader.dataset, [train_size, val_size])\n",
    "train_dataloader = torch.utils.data.DataLoader(train_dataset, batch_size=batch_size, shuffle=True)\n",
    "val_dataloader = torch.utils.data.DataLoader(val_dataset, batch_size=batch_size, shuffle=False)\n",
    "\n",
    "#use the GPU if available\n",
    "\n",
    "device = torch.device(\"cuda\" if torch.cuda.is_available() else \"cpu\")\n",
    "#use huggingface's pretrained model for image classification vit-base-patch16-224\n",
    "#model = transformers.ViTForImageClassification.from_pretrained('google/vit-base-patch16-224-in21k', num_labels=1000)\n",
    "# use huggingface's pretrained model for image classification swin-base-patch4-window7-224\n",
    "from transformers import AutoImageProcessor, AutoModelForImageClassification, AutoConfig\n",
    "path_swin=\"microsoft/swinv2-base-patch4-window16-256\"\n",
    "path_vit=\"google/vit-base-patch16-384\"\n",
    "config = AutoConfig.from_pretrained(path_vit )\n",
    "config.num_labels = 4\n",
    "model = AutoModelForImageClassification.from_pretrained(path_vit)\n",
    "#initialize the weights of models using kaiming normal\n",
    "model.init_weights()\n",
    "#change the number of output classes\n",
    "model.classifier = nn.Linear(768, 4)\n",
    "model.config = config\n",
    "#model.classifier = nn.Linear(1024, 4)\n",
    "model.to(device)\n",
    "#use the AdamW optimizer\n",
    "optimizer = torch.optim.AdamW(model.parameters(), lr=1e-4)\n",
    "#use the cross entropy loss\n",
    "criterion = nn.CrossEntropyLoss()\n"
   ]
  },
  {
   "cell_type": "code",
   "execution_count": 3,
   "metadata": {},
   "outputs": [],
   "source": [
    "from tqdm import tqdm\n",
    "#import classification_report from sklearn\n",
    "from sklearn.metrics import classification_report\n",
    "def evaluate(model, val_dataloader, criterion):\n",
    "    #initialize the loss and the number of correct predictions\n",
    "    val_loss = 0\n",
    "    correct = 0\n",
    "    predictions=[]\n",
    "    labels=[]\n",
    "    #for each batch\n",
    "    with torch.no_grad():\n",
    "        for data, target in tqdm(val_dataloader):\n",
    "            #send the data and the target to the GPU\n",
    "            images, target = data.to(device), target.to(device)\n",
    "            images['pixel_values']=images['pixel_values'].to(torch.float32)\n",
    "            s = images['pixel_values'].shape\n",
    "            images['pixel_values']=images['pixel_values'].view(s[0],s[-3],s[-2],s[-1])\n",
    "            #forward pass\n",
    "            output = model(**images)\n",
    "            #compute the loss\n",
    "            val_loss += criterion(output.logits, target).item()\n",
    "            #compute the number of correct predictions\n",
    "            pred = output.logits.argmax(dim=1, keepdim=True)\n",
    "            #append the predictions\n",
    "            predictions.extend(pred.cpu().numpy().tolist())\n",
    "            #append the labels\n",
    "            labels.extend(target.cpu().numpy().tolist())\n",
    "\n",
    "    #compute the average loss\n",
    "    val_loss /= len(val_dataloader.dataset)\n",
    "    #return the average loss and the number of correct predictions\n",
    "    #print the classification report\n",
    "    print(classification_report(labels, predictions))\n",
    "    return val_loss, correct"
   ]
  },
  {
   "cell_type": "code",
   "execution_count": 4,
   "metadata": {},
   "outputs": [],
   "source": [
    "\n",
    "#train the model\n",
    "output_path = './models/vit_384_from_scratch/'\n",
    "def train(model, train_dataloader, val_dataloader, optimizer, criterion, epochs):\n",
    "    #set the model in training mode\n",
    "    model.train()\n",
    "    train_losses = []\n",
    "    val_losses = []\n",
    "    #for each epoch\n",
    "    for epoch in range(epochs):\n",
    "        train_losses_inner = []\n",
    "        loss=0\n",
    "        #for each batch\n",
    "        for (data, target) in tqdm(train_dataloader):\n",
    "            #send the data and the target to the GPU\n",
    "            images, target = data.to(device), target.to(device)\n",
    "            images['pixel_values']=images['pixel_values'].to(torch.float32)\n",
    "            s = images['pixel_values'].shape\n",
    "            images['pixel_values']=images['pixel_values'].view(s[0],s[-3],s[-2],s[-1])\n",
    "            #forward pass\n",
    "            output = model(**images)\n",
    "            optimizer.zero_grad()\n",
    "            loss = criterion(output.logits, target)\n",
    "            train_losses_inner.append(loss.cpu().detach().numpy())\n",
    "            loss += loss.item()\n",
    "            loss.backward()\n",
    "            optimizer.step()\n",
    "        train_losses.append(np.mean(train_losses_inner))\n",
    "        #evaluate the model on the validation set\n",
    "        print('Epoch: ', epoch)\n",
    "        print('Validation set:')\n",
    "        val_loss, val_accuracy = evaluate(model, val_dataloader, criterion)\n",
    "        val_losses.append(val_loss)\n",
    "        print('Test set:')\n",
    "        test_loss, test_accuracy = evaluate(model, test_dataloader, criterion)\n",
    "        #if the path doesn't exist, create it\n",
    "        if not os.path.exists(output_path):\n",
    "            os.makedirs(output_path)\n",
    "        #save the model\n",
    "        #torch.save(model.state_dict(), output_path + 'model_' + str(epoch) + '.pth')\n",
    "        model.save_pretrained(output_path + 'model_' + str(epoch) + '.pth')\n",
    "    #plot the train and validation losses after transferring to cpu\n",
    "    \n",
    "\n",
    "    print(train_losses)\n",
    "    plt.plot(train_losses, label='train loss')\n",
    "    plt.plot(val_losses, label='validation loss')\n",
    "    plt.legend()\n",
    "    plt.show()\n",
    "    \n",
    "\n",
    "        "
   ]
  },
  {
   "cell_type": "code",
   "execution_count": 5,
   "metadata": {},
   "outputs": [
    {
     "name": "stderr",
     "output_type": "stream",
     "text": [
      "100%|██████████| 316/316 [05:28<00:00,  1.04s/it]\n"
     ]
    },
    {
     "name": "stdout",
     "output_type": "stream",
     "text": [
      "Epoch:  0\n",
      "Validation set:\n"
     ]
    },
    {
     "name": "stderr",
     "output_type": "stream",
     "text": [
      "100%|██████████| 36/36 [00:24<00:00,  1.46it/s]\n"
     ]
    },
    {
     "name": "stdout",
     "output_type": "stream",
     "text": [
      "              precision    recall  f1-score   support\n",
      "\n",
      "           0       0.57      0.58      0.58       139\n",
      "           1       0.32      0.77      0.45       138\n",
      "           2       0.71      0.29      0.41       140\n",
      "           3       0.93      0.19      0.32       145\n",
      "\n",
      "    accuracy                           0.46       562\n",
      "   macro avg       0.63      0.46      0.44       562\n",
      "weighted avg       0.64      0.46      0.44       562\n",
      "\n",
      "Test set:\n"
     ]
    },
    {
     "name": "stderr",
     "output_type": "stream",
     "text": [
      "100%|██████████| 134/134 [01:46<00:00,  1.26it/s]\n"
     ]
    },
    {
     "name": "stdout",
     "output_type": "stream",
     "text": [
      "              precision    recall  f1-score   support\n",
      "\n",
      "           0       0.69      0.48      0.56       705\n",
      "           1       0.16      0.64      0.26       321\n",
      "           2       0.69      0.25      0.37       840\n",
      "           3       0.86      0.29      0.43       273\n",
      "\n",
      "    accuracy                           0.39      2139\n",
      "   macro avg       0.60      0.41      0.41      2139\n",
      "weighted avg       0.63      0.39      0.42      2139\n",
      "\n"
     ]
    },
    {
     "name": "stderr",
     "output_type": "stream",
     "text": [
      "100%|██████████| 316/316 [05:36<00:00,  1.06s/it]\n"
     ]
    },
    {
     "name": "stdout",
     "output_type": "stream",
     "text": [
      "Epoch:  1\n",
      "Validation set:\n"
     ]
    },
    {
     "name": "stderr",
     "output_type": "stream",
     "text": [
      "100%|██████████| 36/36 [00:20<00:00,  1.79it/s]\n"
     ]
    },
    {
     "name": "stdout",
     "output_type": "stream",
     "text": [
      "              precision    recall  f1-score   support\n",
      "\n",
      "           0       0.49      0.81      0.61       139\n",
      "           1       0.38      0.38      0.38       138\n",
      "           2       0.74      0.46      0.56       140\n",
      "           3       0.67      0.50      0.57       145\n",
      "\n",
      "    accuracy                           0.54       562\n",
      "   macro avg       0.57      0.54      0.53       562\n",
      "weighted avg       0.57      0.54      0.53       562\n",
      "\n",
      "Test set:\n"
     ]
    },
    {
     "name": "stderr",
     "output_type": "stream",
     "text": [
      "100%|██████████| 134/134 [01:15<00:00,  1.78it/s]\n"
     ]
    },
    {
     "name": "stdout",
     "output_type": "stream",
     "text": [
      "              precision    recall  f1-score   support\n",
      "\n",
      "           0       0.54      0.69      0.61       705\n",
      "           1       0.21      0.31      0.25       321\n",
      "           2       0.80      0.41      0.54       840\n",
      "           3       0.50      0.62      0.55       273\n",
      "\n",
      "    accuracy                           0.51      2139\n",
      "   macro avg       0.51      0.51      0.49      2139\n",
      "weighted avg       0.59      0.51      0.52      2139\n",
      "\n"
     ]
    },
    {
     "name": "stderr",
     "output_type": "stream",
     "text": [
      "100%|██████████| 316/316 [05:34<00:00,  1.06s/it]\n"
     ]
    },
    {
     "name": "stdout",
     "output_type": "stream",
     "text": [
      "Epoch:  2\n",
      "Validation set:\n"
     ]
    },
    {
     "name": "stderr",
     "output_type": "stream",
     "text": [
      "100%|██████████| 36/36 [00:20<00:00,  1.78it/s]\n"
     ]
    },
    {
     "name": "stdout",
     "output_type": "stream",
     "text": [
      "              precision    recall  f1-score   support\n",
      "\n",
      "           0       0.64      0.75      0.69       139\n",
      "           1       0.43      0.39      0.41       138\n",
      "           2       0.57      0.89      0.69       140\n",
      "           3       0.85      0.32      0.46       145\n",
      "\n",
      "    accuracy                           0.59       562\n",
      "   macro avg       0.62      0.59      0.56       562\n",
      "weighted avg       0.63      0.59      0.56       562\n",
      "\n",
      "Test set:\n"
     ]
    },
    {
     "name": "stderr",
     "output_type": "stream",
     "text": [
      "100%|██████████| 134/134 [01:16<00:00,  1.74it/s]\n"
     ]
    },
    {
     "name": "stdout",
     "output_type": "stream",
     "text": [
      "              precision    recall  f1-score   support\n",
      "\n",
      "           0       0.71      0.57      0.63       705\n",
      "           1       0.28      0.26      0.27       321\n",
      "           2       0.69      0.93      0.79       840\n",
      "           3       0.73      0.44      0.54       273\n",
      "\n",
      "    accuracy                           0.64      2139\n",
      "   macro avg       0.60      0.55      0.56      2139\n",
      "weighted avg       0.64      0.64      0.63      2139\n",
      "\n"
     ]
    },
    {
     "name": "stderr",
     "output_type": "stream",
     "text": [
      "100%|██████████| 316/316 [05:35<00:00,  1.06s/it]\n"
     ]
    },
    {
     "name": "stdout",
     "output_type": "stream",
     "text": [
      "Epoch:  3\n",
      "Validation set:\n"
     ]
    },
    {
     "name": "stderr",
     "output_type": "stream",
     "text": [
      "100%|██████████| 36/36 [00:20<00:00,  1.72it/s]\n"
     ]
    },
    {
     "name": "stdout",
     "output_type": "stream",
     "text": [
      "              precision    recall  f1-score   support\n",
      "\n",
      "           0       0.55      0.85      0.67       139\n",
      "           1       0.42      0.43      0.42       138\n",
      "           2       0.72      0.71      0.71       140\n",
      "           3       0.77      0.37      0.50       145\n",
      "\n",
      "    accuracy                           0.59       562\n",
      "   macro avg       0.61      0.59      0.58       562\n",
      "weighted avg       0.62      0.59      0.57       562\n",
      "\n",
      "Test set:\n"
     ]
    },
    {
     "name": "stderr",
     "output_type": "stream",
     "text": [
      "100%|██████████| 134/134 [01:15<00:00,  1.77it/s]\n"
     ]
    },
    {
     "name": "stdout",
     "output_type": "stream",
     "text": [
      "              precision    recall  f1-score   support\n",
      "\n",
      "           0       0.68      0.74      0.71       705\n",
      "           1       0.24      0.34      0.28       321\n",
      "           2       0.83      0.69      0.75       840\n",
      "           3       0.48      0.37      0.42       273\n",
      "\n",
      "    accuracy                           0.61      2139\n",
      "   macro avg       0.56      0.53      0.54      2139\n",
      "weighted avg       0.64      0.61      0.62      2139\n",
      "\n"
     ]
    },
    {
     "name": "stderr",
     "output_type": "stream",
     "text": [
      "100%|██████████| 316/316 [05:35<00:00,  1.06s/it]\n"
     ]
    },
    {
     "name": "stdout",
     "output_type": "stream",
     "text": [
      "Epoch:  4\n",
      "Validation set:\n"
     ]
    },
    {
     "name": "stderr",
     "output_type": "stream",
     "text": [
      "100%|██████████| 36/36 [00:20<00:00,  1.76it/s]\n"
     ]
    },
    {
     "name": "stdout",
     "output_type": "stream",
     "text": [
      "              precision    recall  f1-score   support\n",
      "\n",
      "           0       0.63      0.76      0.69       139\n",
      "           1       0.46      0.49      0.48       138\n",
      "           2       0.72      0.87      0.79       140\n",
      "           3       0.81      0.43      0.57       145\n",
      "\n",
      "    accuracy                           0.64       562\n",
      "   macro avg       0.66      0.64      0.63       562\n",
      "weighted avg       0.66      0.64      0.63       562\n",
      "\n",
      "Test set:\n"
     ]
    },
    {
     "name": "stderr",
     "output_type": "stream",
     "text": [
      "100%|██████████| 134/134 [01:15<00:00,  1.77it/s]\n"
     ]
    },
    {
     "name": "stdout",
     "output_type": "stream",
     "text": [
      "              precision    recall  f1-score   support\n",
      "\n",
      "           0       0.69      0.62      0.65       705\n",
      "           1       0.32      0.45      0.38       321\n",
      "           2       0.83      0.84      0.84       840\n",
      "           3       0.79      0.58      0.66       273\n",
      "\n",
      "    accuracy                           0.68      2139\n",
      "   macro avg       0.66      0.62      0.63      2139\n",
      "weighted avg       0.70      0.68      0.68      2139\n",
      "\n"
     ]
    },
    {
     "name": "stderr",
     "output_type": "stream",
     "text": [
      "100%|██████████| 316/316 [05:34<00:00,  1.06s/it]\n"
     ]
    },
    {
     "name": "stdout",
     "output_type": "stream",
     "text": [
      "Epoch:  5\n",
      "Validation set:\n"
     ]
    },
    {
     "name": "stderr",
     "output_type": "stream",
     "text": [
      "100%|██████████| 36/36 [00:20<00:00,  1.74it/s]\n"
     ]
    },
    {
     "name": "stdout",
     "output_type": "stream",
     "text": [
      "              precision    recall  f1-score   support\n",
      "\n",
      "           0       0.64      0.76      0.70       139\n",
      "           1       0.50      0.47      0.49       138\n",
      "           2       0.90      0.64      0.74       140\n",
      "           3       0.60      0.70      0.65       145\n",
      "\n",
      "    accuracy                           0.64       562\n",
      "   macro avg       0.66      0.64      0.64       562\n",
      "weighted avg       0.66      0.64      0.64       562\n",
      "\n",
      "Test set:\n"
     ]
    },
    {
     "name": "stderr",
     "output_type": "stream",
     "text": [
      "100%|██████████| 134/134 [01:15<00:00,  1.76it/s]\n"
     ]
    },
    {
     "name": "stdout",
     "output_type": "stream",
     "text": [
      "              precision    recall  f1-score   support\n",
      "\n",
      "           0       0.68      0.69      0.69       705\n",
      "           1       0.34      0.44      0.38       321\n",
      "           2       0.94      0.63      0.75       840\n",
      "           3       0.47      0.77      0.58       273\n",
      "\n",
      "    accuracy                           0.64      2139\n",
      "   macro avg       0.61      0.63      0.60      2139\n",
      "weighted avg       0.71      0.64      0.65      2139\n",
      "\n"
     ]
    },
    {
     "name": "stderr",
     "output_type": "stream",
     "text": [
      "100%|██████████| 316/316 [05:35<00:00,  1.06s/it]\n"
     ]
    },
    {
     "name": "stdout",
     "output_type": "stream",
     "text": [
      "Epoch:  6\n",
      "Validation set:\n"
     ]
    },
    {
     "name": "stderr",
     "output_type": "stream",
     "text": [
      "100%|██████████| 36/36 [00:20<00:00,  1.76it/s]\n"
     ]
    },
    {
     "name": "stdout",
     "output_type": "stream",
     "text": [
      "              precision    recall  f1-score   support\n",
      "\n",
      "           0       0.73      0.68      0.70       139\n",
      "           1       0.52      0.20      0.29       138\n",
      "           2       0.66      0.91      0.76       140\n",
      "           3       0.59      0.76      0.66       145\n",
      "\n",
      "    accuracy                           0.64       562\n",
      "   macro avg       0.62      0.64      0.61       562\n",
      "weighted avg       0.62      0.64      0.61       562\n",
      "\n",
      "Test set:\n"
     ]
    },
    {
     "name": "stderr",
     "output_type": "stream",
     "text": [
      "100%|██████████| 134/134 [01:14<00:00,  1.79it/s]\n"
     ]
    },
    {
     "name": "stdout",
     "output_type": "stream",
     "text": [
      "              precision    recall  f1-score   support\n",
      "\n",
      "           0       0.77      0.52      0.62       705\n",
      "           1       0.41      0.26      0.32       321\n",
      "           2       0.78      0.94      0.85       840\n",
      "           3       0.48      0.77      0.59       273\n",
      "\n",
      "    accuracy                           0.68      2139\n",
      "   macro avg       0.61      0.62      0.60      2139\n",
      "weighted avg       0.68      0.68      0.66      2139\n",
      "\n"
     ]
    },
    {
     "name": "stderr",
     "output_type": "stream",
     "text": [
      "100%|██████████| 316/316 [05:36<00:00,  1.07s/it]\n"
     ]
    },
    {
     "name": "stdout",
     "output_type": "stream",
     "text": [
      "Epoch:  7\n",
      "Validation set:\n"
     ]
    },
    {
     "name": "stderr",
     "output_type": "stream",
     "text": [
      "100%|██████████| 36/36 [00:20<00:00,  1.78it/s]\n"
     ]
    },
    {
     "name": "stdout",
     "output_type": "stream",
     "text": [
      "              precision    recall  f1-score   support\n",
      "\n",
      "           0       0.64      0.73      0.68       139\n",
      "           1       0.47      0.66      0.55       138\n",
      "           2       0.79      0.77      0.78       140\n",
      "           3       0.85      0.43      0.58       145\n",
      "\n",
      "    accuracy                           0.65       562\n",
      "   macro avg       0.69      0.65      0.65       562\n",
      "weighted avg       0.69      0.65      0.65       562\n",
      "\n",
      "Test set:\n"
     ]
    },
    {
     "name": "stderr",
     "output_type": "stream",
     "text": [
      "100%|██████████| 134/134 [01:15<00:00,  1.77it/s]\n"
     ]
    },
    {
     "name": "stdout",
     "output_type": "stream",
     "text": [
      "              precision    recall  f1-score   support\n",
      "\n",
      "           0       0.71      0.63      0.67       705\n",
      "           1       0.30      0.54      0.39       321\n",
      "           2       0.90      0.79      0.84       840\n",
      "           3       0.69      0.52      0.59       273\n",
      "\n",
      "    accuracy                           0.67      2139\n",
      "   macro avg       0.65      0.62      0.62      2139\n",
      "weighted avg       0.72      0.67      0.69      2139\n",
      "\n"
     ]
    },
    {
     "name": "stderr",
     "output_type": "stream",
     "text": [
      "100%|██████████| 316/316 [05:35<00:00,  1.06s/it]\n"
     ]
    },
    {
     "name": "stdout",
     "output_type": "stream",
     "text": [
      "Epoch:  8\n",
      "Validation set:\n"
     ]
    },
    {
     "name": "stderr",
     "output_type": "stream",
     "text": [
      "100%|██████████| 36/36 [00:20<00:00,  1.75it/s]\n"
     ]
    },
    {
     "name": "stdout",
     "output_type": "stream",
     "text": [
      "              precision    recall  f1-score   support\n",
      "\n",
      "           0       0.63      0.91      0.74       139\n",
      "           1       0.63      0.49      0.55       138\n",
      "           2       0.82      0.89      0.85       140\n",
      "           3       0.84      0.59      0.70       145\n",
      "\n",
      "    accuracy                           0.72       562\n",
      "   macro avg       0.73      0.72      0.71       562\n",
      "weighted avg       0.73      0.72      0.71       562\n",
      "\n",
      "Test set:\n"
     ]
    },
    {
     "name": "stderr",
     "output_type": "stream",
     "text": [
      "100%|██████████| 134/134 [01:15<00:00,  1.77it/s]\n"
     ]
    },
    {
     "name": "stdout",
     "output_type": "stream",
     "text": [
      "              precision    recall  f1-score   support\n",
      "\n",
      "           0       0.71      0.80      0.76       705\n",
      "           1       0.46      0.35      0.40       321\n",
      "           2       0.86      0.85      0.85       840\n",
      "           3       0.64      0.65      0.65       273\n",
      "\n",
      "    accuracy                           0.73      2139\n",
      "   macro avg       0.67      0.66      0.66      2139\n",
      "weighted avg       0.72      0.73      0.73      2139\n",
      "\n"
     ]
    },
    {
     "name": "stderr",
     "output_type": "stream",
     "text": [
      "100%|██████████| 316/316 [05:35<00:00,  1.06s/it]\n"
     ]
    },
    {
     "name": "stdout",
     "output_type": "stream",
     "text": [
      "Epoch:  9\n",
      "Validation set:\n"
     ]
    },
    {
     "name": "stderr",
     "output_type": "stream",
     "text": [
      "100%|██████████| 36/36 [00:20<00:00,  1.76it/s]\n"
     ]
    },
    {
     "name": "stdout",
     "output_type": "stream",
     "text": [
      "              precision    recall  f1-score   support\n",
      "\n",
      "           0       0.72      0.68      0.70       139\n",
      "           1       0.50      0.44      0.47       138\n",
      "           2       0.62      0.93      0.74       140\n",
      "           3       0.77      0.53      0.63       145\n",
      "\n",
      "    accuracy                           0.64       562\n",
      "   macro avg       0.65      0.64      0.63       562\n",
      "weighted avg       0.65      0.64      0.64       562\n",
      "\n",
      "Test set:\n"
     ]
    },
    {
     "name": "stderr",
     "output_type": "stream",
     "text": [
      "100%|██████████| 134/134 [01:15<00:00,  1.77it/s]\n"
     ]
    },
    {
     "name": "stdout",
     "output_type": "stream",
     "text": [
      "              precision    recall  f1-score   support\n",
      "\n",
      "           0       0.76      0.53      0.62       705\n",
      "           1       0.41      0.38      0.39       321\n",
      "           2       0.73      0.95      0.83       840\n",
      "           3       0.73      0.66      0.69       273\n",
      "\n",
      "    accuracy                           0.69      2139\n",
      "   macro avg       0.66      0.63      0.63      2139\n",
      "weighted avg       0.69      0.69      0.68      2139\n",
      "\n"
     ]
    },
    {
     "name": "stderr",
     "output_type": "stream",
     "text": [
      "100%|██████████| 316/316 [05:37<00:00,  1.07s/it]\n"
     ]
    },
    {
     "name": "stdout",
     "output_type": "stream",
     "text": [
      "Epoch:  10\n",
      "Validation set:\n"
     ]
    },
    {
     "name": "stderr",
     "output_type": "stream",
     "text": [
      "100%|██████████| 36/36 [00:20<00:00,  1.76it/s]\n"
     ]
    },
    {
     "name": "stdout",
     "output_type": "stream",
     "text": [
      "              precision    recall  f1-score   support\n",
      "\n",
      "           0       0.61      0.91      0.73       139\n",
      "           1       0.62      0.43      0.51       138\n",
      "           2       0.75      0.89      0.82       140\n",
      "           3       0.85      0.55      0.67       145\n",
      "\n",
      "    accuracy                           0.69       562\n",
      "   macro avg       0.71      0.69      0.68       562\n",
      "weighted avg       0.71      0.69      0.68       562\n",
      "\n",
      "Test set:\n"
     ]
    },
    {
     "name": "stderr",
     "output_type": "stream",
     "text": [
      "100%|██████████| 134/134 [01:16<00:00,  1.74it/s]\n"
     ]
    },
    {
     "name": "stdout",
     "output_type": "stream",
     "text": [
      "              precision    recall  f1-score   support\n",
      "\n",
      "           0       0.71      0.79      0.75       705\n",
      "           1       0.44      0.32      0.37       321\n",
      "           2       0.82      0.89      0.86       840\n",
      "           3       0.75      0.58      0.65       273\n",
      "\n",
      "    accuracy                           0.73      2139\n",
      "   macro avg       0.68      0.65      0.66      2139\n",
      "weighted avg       0.72      0.73      0.72      2139\n",
      "\n"
     ]
    },
    {
     "name": "stderr",
     "output_type": "stream",
     "text": [
      "100%|██████████| 316/316 [05:36<00:00,  1.06s/it]\n"
     ]
    },
    {
     "name": "stdout",
     "output_type": "stream",
     "text": [
      "Epoch:  11\n",
      "Validation set:\n"
     ]
    },
    {
     "name": "stderr",
     "output_type": "stream",
     "text": [
      "100%|██████████| 36/36 [00:20<00:00,  1.76it/s]\n"
     ]
    },
    {
     "name": "stdout",
     "output_type": "stream",
     "text": [
      "              precision    recall  f1-score   support\n",
      "\n",
      "           0       0.77      0.71      0.74       139\n",
      "           1       0.55      0.64      0.59       138\n",
      "           2       0.70      0.96      0.81       140\n",
      "           3       0.89      0.50      0.64       145\n",
      "\n",
      "    accuracy                           0.70       562\n",
      "   macro avg       0.73      0.70      0.69       562\n",
      "weighted avg       0.73      0.70      0.69       562\n",
      "\n",
      "Test set:\n"
     ]
    },
    {
     "name": "stderr",
     "output_type": "stream",
     "text": [
      "100%|██████████| 134/134 [01:15<00:00,  1.78it/s]\n"
     ]
    },
    {
     "name": "stdout",
     "output_type": "stream",
     "text": [
      "              precision    recall  f1-score   support\n",
      "\n",
      "           0       0.78      0.55      0.65       705\n",
      "           1       0.36      0.45      0.40       321\n",
      "           2       0.76      0.95      0.85       840\n",
      "           3       0.74      0.55      0.63       273\n",
      "\n",
      "    accuracy                           0.69      2139\n",
      "   macro avg       0.66      0.62      0.63      2139\n",
      "weighted avg       0.71      0.69      0.69      2139\n",
      "\n"
     ]
    },
    {
     "name": "stderr",
     "output_type": "stream",
     "text": [
      "100%|██████████| 316/316 [05:37<00:00,  1.07s/it]\n"
     ]
    },
    {
     "name": "stdout",
     "output_type": "stream",
     "text": [
      "Epoch:  12\n",
      "Validation set:\n"
     ]
    },
    {
     "name": "stderr",
     "output_type": "stream",
     "text": [
      "100%|██████████| 36/36 [00:20<00:00,  1.76it/s]\n"
     ]
    },
    {
     "name": "stdout",
     "output_type": "stream",
     "text": [
      "              precision    recall  f1-score   support\n",
      "\n",
      "           0       0.63      0.83      0.72       139\n",
      "           1       0.47      0.62      0.53       138\n",
      "           2       0.89      0.79      0.84       140\n",
      "           3       0.91      0.46      0.61       145\n",
      "\n",
      "    accuracy                           0.67       562\n",
      "   macro avg       0.72      0.67      0.67       562\n",
      "weighted avg       0.73      0.67      0.67       562\n",
      "\n",
      "Test set:\n"
     ]
    },
    {
     "name": "stderr",
     "output_type": "stream",
     "text": [
      "100%|██████████| 134/134 [01:16<00:00,  1.76it/s]\n"
     ]
    },
    {
     "name": "stdout",
     "output_type": "stream",
     "text": [
      "              precision    recall  f1-score   support\n",
      "\n",
      "           0       0.68      0.72      0.70       705\n",
      "           1       0.34      0.57      0.42       321\n",
      "           2       0.95      0.75      0.84       840\n",
      "           3       0.68      0.46      0.55       273\n",
      "\n",
      "    accuracy                           0.67      2139\n",
      "   macro avg       0.66      0.62      0.63      2139\n",
      "weighted avg       0.73      0.67      0.69      2139\n",
      "\n"
     ]
    },
    {
     "name": "stderr",
     "output_type": "stream",
     "text": [
      "100%|██████████| 316/316 [05:36<00:00,  1.06s/it]\n"
     ]
    },
    {
     "name": "stdout",
     "output_type": "stream",
     "text": [
      "Epoch:  13\n",
      "Validation set:\n"
     ]
    },
    {
     "name": "stderr",
     "output_type": "stream",
     "text": [
      "100%|██████████| 36/36 [00:20<00:00,  1.72it/s]\n"
     ]
    },
    {
     "name": "stdout",
     "output_type": "stream",
     "text": [
      "              precision    recall  f1-score   support\n",
      "\n",
      "           0       0.67      0.75      0.71       139\n",
      "           1       0.56      0.54      0.55       138\n",
      "           2       0.87      0.87      0.87       140\n",
      "           3       0.73      0.68      0.70       145\n",
      "\n",
      "    accuracy                           0.71       562\n",
      "   macro avg       0.71      0.71      0.71       562\n",
      "weighted avg       0.71      0.71      0.71       562\n",
      "\n",
      "Test set:\n"
     ]
    },
    {
     "name": "stderr",
     "output_type": "stream",
     "text": [
      "100%|██████████| 134/134 [01:17<00:00,  1.72it/s]\n"
     ]
    },
    {
     "name": "stdout",
     "output_type": "stream",
     "text": [
      "              precision    recall  f1-score   support\n",
      "\n",
      "           0       0.74      0.72      0.73       705\n",
      "           1       0.44      0.42      0.43       321\n",
      "           2       0.89      0.85      0.87       840\n",
      "           3       0.56      0.70      0.62       273\n",
      "\n",
      "    accuracy                           0.72      2139\n",
      "   macro avg       0.66      0.67      0.66      2139\n",
      "weighted avg       0.73      0.72      0.73      2139\n",
      "\n"
     ]
    },
    {
     "name": "stderr",
     "output_type": "stream",
     "text": [
      "100%|██████████| 316/316 [05:36<00:00,  1.07s/it]\n"
     ]
    },
    {
     "name": "stdout",
     "output_type": "stream",
     "text": [
      "Epoch:  14\n",
      "Validation set:\n"
     ]
    },
    {
     "name": "stderr",
     "output_type": "stream",
     "text": [
      "100%|██████████| 36/36 [00:20<00:00,  1.76it/s]\n"
     ]
    },
    {
     "name": "stdout",
     "output_type": "stream",
     "text": [
      "              precision    recall  f1-score   support\n",
      "\n",
      "           0       0.60      0.90      0.72       139\n",
      "           1       0.57      0.54      0.56       138\n",
      "           2       0.84      0.88      0.86       140\n",
      "           3       0.91      0.48      0.62       145\n",
      "\n",
      "    accuracy                           0.70       562\n",
      "   macro avg       0.73      0.70      0.69       562\n",
      "weighted avg       0.73      0.70      0.69       562\n",
      "\n",
      "Test set:\n"
     ]
    },
    {
     "name": "stderr",
     "output_type": "stream",
     "text": [
      "100%|██████████| 134/134 [01:15<00:00,  1.77it/s]\n"
     ]
    },
    {
     "name": "stdout",
     "output_type": "stream",
     "text": [
      "              precision    recall  f1-score   support\n",
      "\n",
      "           0       0.74      0.81      0.77       705\n",
      "           1       0.41      0.46      0.43       321\n",
      "           2       0.89      0.89      0.89       840\n",
      "           3       0.83      0.49      0.62       273\n",
      "\n",
      "    accuracy                           0.75      2139\n",
      "   macro avg       0.72      0.66      0.68      2139\n",
      "weighted avg       0.76      0.75      0.75      2139\n",
      "\n"
     ]
    },
    {
     "name": "stderr",
     "output_type": "stream",
     "text": [
      "100%|██████████| 316/316 [05:36<00:00,  1.06s/it]\n"
     ]
    },
    {
     "name": "stdout",
     "output_type": "stream",
     "text": [
      "Epoch:  15\n",
      "Validation set:\n"
     ]
    },
    {
     "name": "stderr",
     "output_type": "stream",
     "text": [
      "100%|██████████| 36/36 [00:20<00:00,  1.78it/s]\n"
     ]
    },
    {
     "name": "stdout",
     "output_type": "stream",
     "text": [
      "              precision    recall  f1-score   support\n",
      "\n",
      "           0       0.69      0.77      0.73       139\n",
      "           1       0.52      0.59      0.55       138\n",
      "           2       0.73      0.91      0.81       140\n",
      "           3       0.86      0.44      0.58       145\n",
      "\n",
      "    accuracy                           0.68       562\n",
      "   macro avg       0.70      0.68      0.67       562\n",
      "weighted avg       0.70      0.68      0.67       562\n",
      "\n",
      "Test set:\n"
     ]
    },
    {
     "name": "stderr",
     "output_type": "stream",
     "text": [
      "100%|██████████| 134/134 [01:20<00:00,  1.66it/s]\n"
     ]
    },
    {
     "name": "stdout",
     "output_type": "stream",
     "text": [
      "              precision    recall  f1-score   support\n",
      "\n",
      "           0       0.80      0.69      0.74       705\n",
      "           1       0.37      0.43      0.40       321\n",
      "           2       0.81      0.95      0.88       840\n",
      "           3       0.63      0.40      0.49       273\n",
      "\n",
      "    accuracy                           0.72      2139\n",
      "   macro avg       0.65      0.62      0.63      2139\n",
      "weighted avg       0.72      0.72      0.71      2139\n",
      "\n"
     ]
    },
    {
     "name": "stderr",
     "output_type": "stream",
     "text": [
      "100%|██████████| 316/316 [06:16<00:00,  1.19s/it]\n"
     ]
    },
    {
     "name": "stdout",
     "output_type": "stream",
     "text": [
      "Epoch:  16\n",
      "Validation set:\n"
     ]
    },
    {
     "name": "stderr",
     "output_type": "stream",
     "text": [
      "100%|██████████| 36/36 [00:22<00:00,  1.58it/s]\n"
     ]
    },
    {
     "name": "stdout",
     "output_type": "stream",
     "text": [
      "              precision    recall  f1-score   support\n",
      "\n",
      "           0       0.63      0.91      0.75       139\n",
      "           1       0.72      0.35      0.47       138\n",
      "           2       0.71      0.96      0.81       140\n",
      "           3       0.87      0.63      0.73       145\n",
      "\n",
      "    accuracy                           0.71       562\n",
      "   macro avg       0.73      0.71      0.69       562\n",
      "weighted avg       0.73      0.71      0.69       562\n",
      "\n",
      "Test set:\n"
     ]
    },
    {
     "name": "stderr",
     "output_type": "stream",
     "text": [
      "100%|██████████| 134/134 [01:30<00:00,  1.49it/s]\n"
     ]
    },
    {
     "name": "stdout",
     "output_type": "stream",
     "text": [
      "              precision    recall  f1-score   support\n",
      "\n",
      "           0       0.75      0.82      0.78       705\n",
      "           1       0.58      0.26      0.35       321\n",
      "           2       0.81      0.94      0.87       840\n",
      "           3       0.71      0.64      0.67       273\n",
      "\n",
      "    accuracy                           0.76      2139\n",
      "   macro avg       0.71      0.66      0.67      2139\n",
      "weighted avg       0.74      0.76      0.74      2139\n",
      "\n"
     ]
    },
    {
     "name": "stderr",
     "output_type": "stream",
     "text": [
      "100%|██████████| 316/316 [06:16<00:00,  1.19s/it]\n"
     ]
    },
    {
     "name": "stdout",
     "output_type": "stream",
     "text": [
      "Epoch:  17\n",
      "Validation set:\n"
     ]
    },
    {
     "name": "stderr",
     "output_type": "stream",
     "text": [
      "100%|██████████| 36/36 [00:25<00:00,  1.44it/s]\n"
     ]
    },
    {
     "name": "stdout",
     "output_type": "stream",
     "text": [
      "              precision    recall  f1-score   support\n",
      "\n",
      "           0       0.78      0.73      0.75       139\n",
      "           1       0.62      0.47      0.54       138\n",
      "           2       0.72      0.92      0.81       140\n",
      "           3       0.71      0.73      0.72       145\n",
      "\n",
      "    accuracy                           0.71       562\n",
      "   macro avg       0.71      0.71      0.70       562\n",
      "weighted avg       0.71      0.71      0.71       562\n",
      "\n",
      "Test set:\n"
     ]
    },
    {
     "name": "stderr",
     "output_type": "stream",
     "text": [
      "100%|██████████| 134/134 [01:32<00:00,  1.45it/s]\n"
     ]
    },
    {
     "name": "stdout",
     "output_type": "stream",
     "text": [
      "              precision    recall  f1-score   support\n",
      "\n",
      "           0       0.80      0.59      0.68       705\n",
      "           1       0.51      0.32      0.39       321\n",
      "           2       0.80      0.94      0.86       840\n",
      "           3       0.49      0.77      0.60       273\n",
      "\n",
      "    accuracy                           0.71      2139\n",
      "   macro avg       0.65      0.66      0.63      2139\n",
      "weighted avg       0.72      0.71      0.70      2139\n",
      "\n"
     ]
    },
    {
     "name": "stderr",
     "output_type": "stream",
     "text": [
      "100%|██████████| 316/316 [06:19<00:00,  1.20s/it]\n"
     ]
    },
    {
     "name": "stdout",
     "output_type": "stream",
     "text": [
      "Epoch:  18\n",
      "Validation set:\n"
     ]
    },
    {
     "name": "stderr",
     "output_type": "stream",
     "text": [
      "100%|██████████| 36/36 [00:23<00:00,  1.56it/s]\n"
     ]
    },
    {
     "name": "stdout",
     "output_type": "stream",
     "text": [
      "              precision    recall  f1-score   support\n",
      "\n",
      "           0       0.73      0.86      0.79       139\n",
      "           1       0.62      0.62      0.62       138\n",
      "           2       0.84      0.86      0.85       140\n",
      "           3       0.78      0.63      0.69       145\n",
      "\n",
      "    accuracy                           0.74       562\n",
      "   macro avg       0.74      0.74      0.74       562\n",
      "weighted avg       0.74      0.74      0.74       562\n",
      "\n",
      "Test set:\n"
     ]
    },
    {
     "name": "stderr",
     "output_type": "stream",
     "text": [
      "100%|██████████| 134/134 [01:25<00:00,  1.57it/s]\n"
     ]
    },
    {
     "name": "stdout",
     "output_type": "stream",
     "text": [
      "              precision    recall  f1-score   support\n",
      "\n",
      "           0       0.75      0.72      0.74       705\n",
      "           1       0.40      0.45      0.43       321\n",
      "           2       0.90      0.85      0.87       840\n",
      "           3       0.53      0.59      0.56       273\n",
      "\n",
      "    accuracy                           0.71      2139\n",
      "   macro avg       0.65      0.65      0.65      2139\n",
      "weighted avg       0.73      0.71      0.72      2139\n",
      "\n"
     ]
    },
    {
     "name": "stderr",
     "output_type": "stream",
     "text": [
      "100%|██████████| 316/316 [06:19<00:00,  1.20s/it]\n"
     ]
    },
    {
     "name": "stdout",
     "output_type": "stream",
     "text": [
      "Epoch:  19\n",
      "Validation set:\n"
     ]
    },
    {
     "name": "stderr",
     "output_type": "stream",
     "text": [
      "100%|██████████| 36/36 [00:22<00:00,  1.60it/s]\n"
     ]
    },
    {
     "name": "stdout",
     "output_type": "stream",
     "text": [
      "              precision    recall  f1-score   support\n",
      "\n",
      "           0       0.69      0.76      0.72       139\n",
      "           1       0.60      0.59      0.59       138\n",
      "           2       0.86      0.84      0.85       140\n",
      "           3       0.72      0.67      0.69       145\n",
      "\n",
      "    accuracy                           0.72       562\n",
      "   macro avg       0.72      0.72      0.71       562\n",
      "weighted avg       0.72      0.72      0.72       562\n",
      "\n",
      "Test set:\n"
     ]
    },
    {
     "name": "stderr",
     "output_type": "stream",
     "text": [
      "100%|██████████| 134/134 [01:23<00:00,  1.61it/s]\n"
     ]
    },
    {
     "name": "stdout",
     "output_type": "stream",
     "text": [
      "              precision    recall  f1-score   support\n",
      "\n",
      "           0       0.74      0.69      0.71       705\n",
      "           1       0.43      0.49      0.46       321\n",
      "           2       0.94      0.83      0.88       840\n",
      "           3       0.52      0.72      0.61       273\n",
      "\n",
      "    accuracy                           0.72      2139\n",
      "   macro avg       0.66      0.68      0.67      2139\n",
      "weighted avg       0.74      0.72      0.73      2139\n",
      "\n"
     ]
    },
    {
     "name": "stderr",
     "output_type": "stream",
     "text": [
      "100%|██████████| 316/316 [06:16<00:00,  1.19s/it]\n"
     ]
    },
    {
     "name": "stdout",
     "output_type": "stream",
     "text": [
      "Epoch:  20\n",
      "Validation set:\n"
     ]
    },
    {
     "name": "stderr",
     "output_type": "stream",
     "text": [
      "100%|██████████| 36/36 [00:23<00:00,  1.56it/s]\n"
     ]
    },
    {
     "name": "stdout",
     "output_type": "stream",
     "text": [
      "              precision    recall  f1-score   support\n",
      "\n",
      "           0       0.73      0.67      0.70       139\n",
      "           1       0.54      0.41      0.46       138\n",
      "           2       0.77      0.86      0.81       140\n",
      "           3       0.63      0.76      0.69       145\n",
      "\n",
      "    accuracy                           0.67       562\n",
      "   macro avg       0.67      0.67      0.67       562\n",
      "weighted avg       0.67      0.67      0.67       562\n",
      "\n",
      "Test set:\n"
     ]
    },
    {
     "name": "stderr",
     "output_type": "stream",
     "text": [
      "100%|██████████| 134/134 [01:23<00:00,  1.61it/s]\n"
     ]
    },
    {
     "name": "stdout",
     "output_type": "stream",
     "text": [
      "              precision    recall  f1-score   support\n",
      "\n",
      "           0       0.78      0.59      0.67       705\n",
      "           1       0.47      0.44      0.46       321\n",
      "           2       0.88      0.87      0.88       840\n",
      "           3       0.46      0.81      0.59       273\n",
      "\n",
      "    accuracy                           0.71      2139\n",
      "   macro avg       0.65      0.68      0.65      2139\n",
      "weighted avg       0.73      0.71      0.71      2139\n",
      "\n"
     ]
    },
    {
     "name": "stderr",
     "output_type": "stream",
     "text": [
      "100%|██████████| 316/316 [06:15<00:00,  1.19s/it]\n"
     ]
    },
    {
     "name": "stdout",
     "output_type": "stream",
     "text": [
      "Epoch:  21\n",
      "Validation set:\n"
     ]
    },
    {
     "name": "stderr",
     "output_type": "stream",
     "text": [
      "100%|██████████| 36/36 [00:22<00:00,  1.59it/s]\n"
     ]
    },
    {
     "name": "stdout",
     "output_type": "stream",
     "text": [
      "              precision    recall  f1-score   support\n",
      "\n",
      "           0       0.73      0.81      0.77       139\n",
      "           1       0.69      0.59      0.64       138\n",
      "           2       0.82      0.93      0.87       140\n",
      "           3       0.79      0.71      0.75       145\n",
      "\n",
      "    accuracy                           0.76       562\n",
      "   macro avg       0.76      0.76      0.76       562\n",
      "weighted avg       0.76      0.76      0.76       562\n",
      "\n",
      "Test set:\n"
     ]
    },
    {
     "name": "stderr",
     "output_type": "stream",
     "text": [
      "100%|██████████| 134/134 [01:23<00:00,  1.60it/s]\n"
     ]
    },
    {
     "name": "stdout",
     "output_type": "stream",
     "text": [
      "              precision    recall  f1-score   support\n",
      "\n",
      "           0       0.78      0.71      0.74       705\n",
      "           1       0.44      0.49      0.47       321\n",
      "           2       0.91      0.89      0.90       840\n",
      "           3       0.65      0.74      0.69       273\n",
      "\n",
      "    accuracy                           0.75      2139\n",
      "   macro avg       0.69      0.71      0.70      2139\n",
      "weighted avg       0.76      0.75      0.76      2139\n",
      "\n"
     ]
    },
    {
     "name": "stderr",
     "output_type": "stream",
     "text": [
      "100%|██████████| 316/316 [06:15<00:00,  1.19s/it]\n"
     ]
    },
    {
     "name": "stdout",
     "output_type": "stream",
     "text": [
      "Epoch:  22\n",
      "Validation set:\n"
     ]
    },
    {
     "name": "stderr",
     "output_type": "stream",
     "text": [
      "100%|██████████| 36/36 [00:22<00:00,  1.58it/s]\n"
     ]
    },
    {
     "name": "stdout",
     "output_type": "stream",
     "text": [
      "              precision    recall  f1-score   support\n",
      "\n",
      "           0       0.66      0.84      0.74       139\n",
      "           1       0.58      0.52      0.55       138\n",
      "           2       0.83      0.89      0.86       140\n",
      "           3       0.77      0.59      0.67       145\n",
      "\n",
      "    accuracy                           0.71       562\n",
      "   macro avg       0.71      0.71      0.70       562\n",
      "weighted avg       0.71      0.71      0.70       562\n",
      "\n",
      "Test set:\n"
     ]
    },
    {
     "name": "stderr",
     "output_type": "stream",
     "text": [
      "100%|██████████| 134/134 [01:24<00:00,  1.59it/s]\n"
     ]
    },
    {
     "name": "stdout",
     "output_type": "stream",
     "text": [
      "              precision    recall  f1-score   support\n",
      "\n",
      "           0       0.74      0.79      0.77       705\n",
      "           1       0.48      0.48      0.48       321\n",
      "           2       0.90      0.88      0.89       840\n",
      "           3       0.68      0.64      0.66       273\n",
      "\n",
      "    accuracy                           0.76      2139\n",
      "   macro avg       0.70      0.70      0.70      2139\n",
      "weighted avg       0.76      0.76      0.76      2139\n",
      "\n"
     ]
    },
    {
     "name": "stderr",
     "output_type": "stream",
     "text": [
      "100%|██████████| 316/316 [06:15<00:00,  1.19s/it]\n"
     ]
    },
    {
     "name": "stdout",
     "output_type": "stream",
     "text": [
      "Epoch:  23\n",
      "Validation set:\n"
     ]
    },
    {
     "name": "stderr",
     "output_type": "stream",
     "text": [
      "100%|██████████| 36/36 [00:23<00:00,  1.55it/s]\n"
     ]
    },
    {
     "name": "stdout",
     "output_type": "stream",
     "text": [
      "              precision    recall  f1-score   support\n",
      "\n",
      "           0       0.69      0.83      0.75       139\n",
      "           1       0.61      0.49      0.54       138\n",
      "           2       0.90      0.82      0.86       140\n",
      "           3       0.72      0.78      0.75       145\n",
      "\n",
      "    accuracy                           0.73       562\n",
      "   macro avg       0.73      0.73      0.73       562\n",
      "weighted avg       0.73      0.73      0.73       562\n",
      "\n",
      "Test set:\n"
     ]
    },
    {
     "name": "stderr",
     "output_type": "stream",
     "text": [
      "100%|██████████| 134/134 [01:24<00:00,  1.59it/s]\n"
     ]
    },
    {
     "name": "stdout",
     "output_type": "stream",
     "text": [
      "              precision    recall  f1-score   support\n",
      "\n",
      "           0       0.77      0.78      0.77       705\n",
      "           1       0.48      0.46      0.47       321\n",
      "           2       0.94      0.86      0.90       840\n",
      "           3       0.62      0.79      0.69       273\n",
      "\n",
      "    accuracy                           0.76      2139\n",
      "   macro avg       0.70      0.72      0.71      2139\n",
      "weighted avg       0.77      0.76      0.77      2139\n",
      "\n"
     ]
    },
    {
     "name": "stderr",
     "output_type": "stream",
     "text": [
      "100%|██████████| 316/316 [06:14<00:00,  1.19s/it]\n"
     ]
    },
    {
     "name": "stdout",
     "output_type": "stream",
     "text": [
      "Epoch:  24\n",
      "Validation set:\n"
     ]
    },
    {
     "name": "stderr",
     "output_type": "stream",
     "text": [
      "100%|██████████| 36/36 [00:22<00:00,  1.59it/s]\n"
     ]
    },
    {
     "name": "stdout",
     "output_type": "stream",
     "text": [
      "              precision    recall  f1-score   support\n",
      "\n",
      "           0       0.59      0.95      0.73       139\n",
      "           1       0.72      0.50      0.59       138\n",
      "           2       0.95      0.72      0.82       140\n",
      "           3       0.79      0.75      0.77       145\n",
      "\n",
      "    accuracy                           0.73       562\n",
      "   macro avg       0.76      0.73      0.73       562\n",
      "weighted avg       0.76      0.73      0.73       562\n",
      "\n",
      "Test set:\n"
     ]
    },
    {
     "name": "stderr",
     "output_type": "stream",
     "text": [
      "100%|██████████| 134/134 [01:23<00:00,  1.61it/s]\n"
     ]
    },
    {
     "name": "stdout",
     "output_type": "stream",
     "text": [
      "              precision    recall  f1-score   support\n",
      "\n",
      "           0       0.68      0.86      0.76       705\n",
      "           1       0.51      0.36      0.42       321\n",
      "           2       0.95      0.77      0.85       840\n",
      "           3       0.63      0.79      0.70       273\n",
      "\n",
      "    accuracy                           0.74      2139\n",
      "   macro avg       0.69      0.70      0.68      2139\n",
      "weighted avg       0.75      0.74      0.74      2139\n",
      "\n"
     ]
    },
    {
     "name": "stderr",
     "output_type": "stream",
     "text": [
      "100%|██████████| 316/316 [06:14<00:00,  1.19s/it]\n"
     ]
    },
    {
     "name": "stdout",
     "output_type": "stream",
     "text": [
      "Epoch:  25\n",
      "Validation set:\n"
     ]
    },
    {
     "name": "stderr",
     "output_type": "stream",
     "text": [
      "100%|██████████| 36/36 [00:22<00:00,  1.58it/s]\n"
     ]
    },
    {
     "name": "stdout",
     "output_type": "stream",
     "text": [
      "              precision    recall  f1-score   support\n",
      "\n",
      "           0       0.74      0.86      0.80       139\n",
      "           1       0.59      0.64      0.61       138\n",
      "           2       0.81      0.84      0.82       140\n",
      "           3       0.83      0.59      0.69       145\n",
      "\n",
      "    accuracy                           0.73       562\n",
      "   macro avg       0.74      0.73      0.73       562\n",
      "weighted avg       0.74      0.73      0.73       562\n",
      "\n",
      "Test set:\n"
     ]
    },
    {
     "name": "stderr",
     "output_type": "stream",
     "text": [
      "100%|██████████| 134/134 [01:24<00:00,  1.59it/s]\n"
     ]
    },
    {
     "name": "stdout",
     "output_type": "stream",
     "text": [
      "              precision    recall  f1-score   support\n",
      "\n",
      "           0       0.78      0.76      0.77       705\n",
      "           1       0.46      0.58      0.52       321\n",
      "           2       0.91      0.88      0.89       840\n",
      "           3       0.69      0.62      0.65       273\n",
      "\n",
      "    accuracy                           0.76      2139\n",
      "   macro avg       0.71      0.71      0.71      2139\n",
      "weighted avg       0.77      0.76      0.76      2139\n",
      "\n"
     ]
    },
    {
     "name": "stderr",
     "output_type": "stream",
     "text": [
      "100%|██████████| 316/316 [06:14<00:00,  1.19s/it]\n"
     ]
    },
    {
     "name": "stdout",
     "output_type": "stream",
     "text": [
      "Epoch:  26\n",
      "Validation set:\n"
     ]
    },
    {
     "name": "stderr",
     "output_type": "stream",
     "text": [
      "100%|██████████| 36/36 [00:23<00:00,  1.54it/s]\n"
     ]
    },
    {
     "name": "stdout",
     "output_type": "stream",
     "text": [
      "              precision    recall  f1-score   support\n",
      "\n",
      "           0       0.65      0.91      0.76       139\n",
      "           1       0.72      0.45      0.55       138\n",
      "           2       0.76      0.84      0.80       140\n",
      "           3       0.81      0.72      0.77       145\n",
      "\n",
      "    accuracy                           0.73       562\n",
      "   macro avg       0.74      0.73      0.72       562\n",
      "weighted avg       0.74      0.73      0.72       562\n",
      "\n",
      "Test set:\n"
     ]
    },
    {
     "name": "stderr",
     "output_type": "stream",
     "text": [
      "100%|██████████| 134/134 [01:26<00:00,  1.56it/s]\n"
     ]
    },
    {
     "name": "stdout",
     "output_type": "stream",
     "text": [
      "              precision    recall  f1-score   support\n",
      "\n",
      "           0       0.71      0.81      0.76       705\n",
      "           1       0.53      0.35      0.42       321\n",
      "           2       0.88      0.87      0.88       840\n",
      "           3       0.69      0.74      0.72       273\n",
      "\n",
      "    accuracy                           0.76      2139\n",
      "   macro avg       0.70      0.69      0.69      2139\n",
      "weighted avg       0.75      0.76      0.75      2139\n",
      "\n"
     ]
    },
    {
     "name": "stderr",
     "output_type": "stream",
     "text": [
      "100%|██████████| 316/316 [06:14<00:00,  1.19s/it]\n"
     ]
    },
    {
     "name": "stdout",
     "output_type": "stream",
     "text": [
      "Epoch:  27\n",
      "Validation set:\n"
     ]
    },
    {
     "name": "stderr",
     "output_type": "stream",
     "text": [
      "100%|██████████| 36/36 [00:22<00:00,  1.60it/s]\n"
     ]
    },
    {
     "name": "stdout",
     "output_type": "stream",
     "text": [
      "              precision    recall  f1-score   support\n",
      "\n",
      "           0       0.73      0.71      0.72       139\n",
      "           1       0.63      0.46      0.53       138\n",
      "           2       0.76      0.92      0.83       140\n",
      "           3       0.70      0.75      0.73       145\n",
      "\n",
      "    accuracy                           0.71       562\n",
      "   macro avg       0.71      0.71      0.70       562\n",
      "weighted avg       0.71      0.71      0.70       562\n",
      "\n",
      "Test set:\n"
     ]
    },
    {
     "name": "stderr",
     "output_type": "stream",
     "text": [
      "100%|██████████| 134/134 [01:23<00:00,  1.61it/s]\n"
     ]
    },
    {
     "name": "stdout",
     "output_type": "stream",
     "text": [
      "              precision    recall  f1-score   support\n",
      "\n",
      "           0       0.79      0.67      0.73       705\n",
      "           1       0.50      0.44      0.47       321\n",
      "           2       0.87      0.93      0.90       840\n",
      "           3       0.58      0.77      0.66       273\n",
      "\n",
      "    accuracy                           0.75      2139\n",
      "   macro avg       0.69      0.70      0.69      2139\n",
      "weighted avg       0.75      0.75      0.75      2139\n",
      "\n"
     ]
    },
    {
     "name": "stderr",
     "output_type": "stream",
     "text": [
      "100%|██████████| 316/316 [06:15<00:00,  1.19s/it]\n"
     ]
    },
    {
     "name": "stdout",
     "output_type": "stream",
     "text": [
      "Epoch:  28\n",
      "Validation set:\n"
     ]
    },
    {
     "name": "stderr",
     "output_type": "stream",
     "text": [
      "100%|██████████| 36/36 [00:22<00:00,  1.58it/s]\n"
     ]
    },
    {
     "name": "stdout",
     "output_type": "stream",
     "text": [
      "              precision    recall  f1-score   support\n",
      "\n",
      "           0       0.67      0.82      0.74       139\n",
      "           1       0.59      0.59      0.59       138\n",
      "           2       0.89      0.83      0.86       140\n",
      "           3       0.79      0.66      0.72       145\n",
      "\n",
      "    accuracy                           0.73       562\n",
      "   macro avg       0.73      0.73      0.73       562\n",
      "weighted avg       0.74      0.73      0.73       562\n",
      "\n",
      "Test set:\n"
     ]
    },
    {
     "name": "stderr",
     "output_type": "stream",
     "text": [
      "100%|██████████| 134/134 [01:24<00:00,  1.59it/s]\n"
     ]
    },
    {
     "name": "stdout",
     "output_type": "stream",
     "text": [
      "              precision    recall  f1-score   support\n",
      "\n",
      "           0       0.75      0.76      0.76       705\n",
      "           1       0.47      0.50      0.48       321\n",
      "           2       0.92      0.87      0.89       840\n",
      "           3       0.62      0.66      0.64       273\n",
      "\n",
      "    accuracy                           0.75      2139\n",
      "   macro avg       0.69      0.70      0.69      2139\n",
      "weighted avg       0.76      0.75      0.75      2139\n",
      "\n"
     ]
    },
    {
     "name": "stderr",
     "output_type": "stream",
     "text": [
      "100%|██████████| 316/316 [05:41<00:00,  1.08s/it]\n"
     ]
    },
    {
     "name": "stdout",
     "output_type": "stream",
     "text": [
      "Epoch:  29\n",
      "Validation set:\n"
     ]
    },
    {
     "name": "stderr",
     "output_type": "stream",
     "text": [
      "100%|██████████| 36/36 [00:20<00:00,  1.80it/s]\n"
     ]
    },
    {
     "name": "stdout",
     "output_type": "stream",
     "text": [
      "              precision    recall  f1-score   support\n",
      "\n",
      "           0       0.73      0.76      0.74       139\n",
      "           1       0.71      0.55      0.62       138\n",
      "           2       0.72      0.95      0.82       140\n",
      "           3       0.77      0.68      0.72       145\n",
      "\n",
      "    accuracy                           0.73       562\n",
      "   macro avg       0.73      0.73      0.73       562\n",
      "weighted avg       0.73      0.73      0.73       562\n",
      "\n",
      "Test set:\n"
     ]
    },
    {
     "name": "stderr",
     "output_type": "stream",
     "text": [
      "100%|██████████| 134/134 [01:15<00:00,  1.78it/s]\n"
     ]
    },
    {
     "name": "stdout",
     "output_type": "stream",
     "text": [
      "              precision    recall  f1-score   support\n",
      "\n",
      "           0       0.80      0.60      0.68       705\n",
      "           1       0.44      0.43      0.43       321\n",
      "           2       0.78      0.96      0.86       840\n",
      "           3       0.61      0.60      0.61       273\n",
      "\n",
      "    accuracy                           0.72      2139\n",
      "   macro avg       0.66      0.65      0.65      2139\n",
      "weighted avg       0.72      0.72      0.71      2139\n",
      "\n"
     ]
    },
    {
     "name": "stderr",
     "output_type": "stream",
     "text": [
      "100%|██████████| 316/316 [05:39<00:00,  1.07s/it]\n"
     ]
    },
    {
     "name": "stdout",
     "output_type": "stream",
     "text": [
      "Epoch:  30\n",
      "Validation set:\n"
     ]
    },
    {
     "name": "stderr",
     "output_type": "stream",
     "text": [
      "100%|██████████| 36/36 [00:20<00:00,  1.78it/s]\n"
     ]
    },
    {
     "name": "stdout",
     "output_type": "stream",
     "text": [
      "              precision    recall  f1-score   support\n",
      "\n",
      "           0       0.71      0.89      0.79       139\n",
      "           1       0.73      0.52      0.61       138\n",
      "           2       0.85      0.88      0.87       140\n",
      "           3       0.77      0.77      0.77       145\n",
      "\n",
      "    accuracy                           0.77       562\n",
      "   macro avg       0.77      0.76      0.76       562\n",
      "weighted avg       0.77      0.77      0.76       562\n",
      "\n",
      "Test set:\n"
     ]
    },
    {
     "name": "stderr",
     "output_type": "stream",
     "text": [
      "100%|██████████| 134/134 [01:14<00:00,  1.79it/s]\n"
     ]
    },
    {
     "name": "stdout",
     "output_type": "stream",
     "text": [
      "              precision    recall  f1-score   support\n",
      "\n",
      "           0       0.76      0.81      0.79       705\n",
      "           1       0.58      0.38      0.46       321\n",
      "           2       0.89      0.89      0.89       840\n",
      "           3       0.63      0.79      0.70       273\n",
      "\n",
      "    accuracy                           0.77      2139\n",
      "   macro avg       0.72      0.72      0.71      2139\n",
      "weighted avg       0.77      0.77      0.77      2139\n",
      "\n"
     ]
    },
    {
     "name": "stderr",
     "output_type": "stream",
     "text": [
      "100%|██████████| 316/316 [05:33<00:00,  1.06s/it]\n"
     ]
    },
    {
     "name": "stdout",
     "output_type": "stream",
     "text": [
      "Epoch:  31\n",
      "Validation set:\n"
     ]
    },
    {
     "name": "stderr",
     "output_type": "stream",
     "text": [
      "100%|██████████| 36/36 [00:20<00:00,  1.75it/s]\n"
     ]
    },
    {
     "name": "stdout",
     "output_type": "stream",
     "text": [
      "              precision    recall  f1-score   support\n",
      "\n",
      "           0       0.75      0.53      0.62       139\n",
      "           1       0.59      0.56      0.57       138\n",
      "           2       0.85      0.92      0.89       140\n",
      "           3       0.66      0.83      0.74       145\n",
      "\n",
      "    accuracy                           0.71       562\n",
      "   macro avg       0.71      0.71      0.71       562\n",
      "weighted avg       0.71      0.71      0.71       562\n",
      "\n",
      "Test set:\n"
     ]
    },
    {
     "name": "stderr",
     "output_type": "stream",
     "text": [
      "100%|██████████| 134/134 [01:15<00:00,  1.79it/s]\n"
     ]
    },
    {
     "name": "stdout",
     "output_type": "stream",
     "text": [
      "              precision    recall  f1-score   support\n",
      "\n",
      "           0       0.79      0.44      0.56       705\n",
      "           1       0.41      0.47      0.44       321\n",
      "           2       0.89      0.90      0.89       840\n",
      "           3       0.42      0.82      0.55       273\n",
      "\n",
      "    accuracy                           0.67      2139\n",
      "   macro avg       0.63      0.66      0.61      2139\n",
      "weighted avg       0.72      0.67      0.67      2139\n",
      "\n"
     ]
    },
    {
     "name": "stderr",
     "output_type": "stream",
     "text": [
      "100%|██████████| 316/316 [05:33<00:00,  1.05s/it]\n"
     ]
    },
    {
     "name": "stdout",
     "output_type": "stream",
     "text": [
      "Epoch:  32\n",
      "Validation set:\n"
     ]
    },
    {
     "name": "stderr",
     "output_type": "stream",
     "text": [
      "100%|██████████| 36/36 [00:21<00:00,  1.66it/s]\n"
     ]
    },
    {
     "name": "stdout",
     "output_type": "stream",
     "text": [
      "              precision    recall  f1-score   support\n",
      "\n",
      "           0       0.76      0.74      0.75       139\n",
      "           1       0.64      0.57      0.60       138\n",
      "           2       0.86      0.93      0.89       140\n",
      "           3       0.75      0.81      0.78       145\n",
      "\n",
      "    accuracy                           0.76       562\n",
      "   macro avg       0.76      0.76      0.76       562\n",
      "weighted avg       0.76      0.76      0.76       562\n",
      "\n",
      "Test set:\n"
     ]
    },
    {
     "name": "stderr",
     "output_type": "stream",
     "text": [
      "100%|██████████| 134/134 [01:27<00:00,  1.52it/s]\n"
     ]
    },
    {
     "name": "stdout",
     "output_type": "stream",
     "text": [
      "              precision    recall  f1-score   support\n",
      "\n",
      "           0       0.80      0.60      0.69       705\n",
      "           1       0.42      0.55      0.47       321\n",
      "           2       0.89      0.90      0.90       840\n",
      "           3       0.61      0.75      0.67       273\n",
      "\n",
      "    accuracy                           0.73      2139\n",
      "   macro avg       0.68      0.70      0.68      2139\n",
      "weighted avg       0.75      0.73      0.74      2139\n",
      "\n"
     ]
    },
    {
     "name": "stderr",
     "output_type": "stream",
     "text": [
      "100%|██████████| 316/316 [05:33<00:00,  1.06s/it]\n"
     ]
    },
    {
     "name": "stdout",
     "output_type": "stream",
     "text": [
      "Epoch:  33\n",
      "Validation set:\n"
     ]
    },
    {
     "name": "stderr",
     "output_type": "stream",
     "text": [
      "100%|██████████| 36/36 [00:20<00:00,  1.73it/s]\n"
     ]
    },
    {
     "name": "stdout",
     "output_type": "stream",
     "text": [
      "              precision    recall  f1-score   support\n",
      "\n",
      "           0       0.70      0.87      0.78       139\n",
      "           1       0.67      0.58      0.62       138\n",
      "           2       0.85      0.91      0.88       140\n",
      "           3       0.80      0.67      0.73       145\n",
      "\n",
      "    accuracy                           0.76       562\n",
      "   macro avg       0.76      0.76      0.75       562\n",
      "weighted avg       0.76      0.76      0.75       562\n",
      "\n",
      "Test set:\n"
     ]
    },
    {
     "name": "stderr",
     "output_type": "stream",
     "text": [
      "100%|██████████| 134/134 [01:17<00:00,  1.74it/s]\n"
     ]
    },
    {
     "name": "stdout",
     "output_type": "stream",
     "text": [
      "              precision    recall  f1-score   support\n",
      "\n",
      "           0       0.76      0.76      0.76       705\n",
      "           1       0.52      0.50      0.51       321\n",
      "           2       0.92      0.88      0.90       840\n",
      "           3       0.66      0.79      0.72       273\n",
      "\n",
      "    accuracy                           0.77      2139\n",
      "   macro avg       0.72      0.73      0.72      2139\n",
      "weighted avg       0.78      0.77      0.77      2139\n",
      "\n"
     ]
    },
    {
     "name": "stderr",
     "output_type": "stream",
     "text": [
      "100%|██████████| 316/316 [05:34<00:00,  1.06s/it]\n"
     ]
    },
    {
     "name": "stdout",
     "output_type": "stream",
     "text": [
      "Epoch:  34\n",
      "Validation set:\n"
     ]
    },
    {
     "name": "stderr",
     "output_type": "stream",
     "text": [
      "100%|██████████| 36/36 [00:20<00:00,  1.74it/s]\n"
     ]
    },
    {
     "name": "stdout",
     "output_type": "stream",
     "text": [
      "              precision    recall  f1-score   support\n",
      "\n",
      "           0       0.74      0.83      0.79       139\n",
      "           1       0.69      0.57      0.62       138\n",
      "           2       0.81      0.92      0.86       140\n",
      "           3       0.82      0.74      0.78       145\n",
      "\n",
      "    accuracy                           0.77       562\n",
      "   macro avg       0.76      0.77      0.76       562\n",
      "weighted avg       0.76      0.77      0.76       562\n",
      "\n",
      "Test set:\n"
     ]
    },
    {
     "name": "stderr",
     "output_type": "stream",
     "text": [
      "100%|██████████| 134/134 [01:17<00:00,  1.73it/s]\n"
     ]
    },
    {
     "name": "stdout",
     "output_type": "stream",
     "text": [
      "              precision    recall  f1-score   support\n",
      "\n",
      "           0       0.81      0.77      0.79       705\n",
      "           1       0.51      0.51      0.51       321\n",
      "           2       0.89      0.92      0.91       840\n",
      "           3       0.70      0.71      0.70       273\n",
      "\n",
      "    accuracy                           0.78      2139\n",
      "   macro avg       0.73      0.73      0.73      2139\n",
      "weighted avg       0.78      0.78      0.78      2139\n",
      "\n"
     ]
    },
    {
     "name": "stderr",
     "output_type": "stream",
     "text": [
      "100%|██████████| 316/316 [05:33<00:00,  1.05s/it]\n"
     ]
    },
    {
     "name": "stdout",
     "output_type": "stream",
     "text": [
      "Epoch:  35\n",
      "Validation set:\n"
     ]
    },
    {
     "name": "stderr",
     "output_type": "stream",
     "text": [
      "100%|██████████| 36/36 [00:20<00:00,  1.76it/s]\n"
     ]
    },
    {
     "name": "stdout",
     "output_type": "stream",
     "text": [
      "              precision    recall  f1-score   support\n",
      "\n",
      "           0       0.71      0.86      0.78       139\n",
      "           1       0.74      0.41      0.53       138\n",
      "           2       0.75      0.95      0.84       140\n",
      "           3       0.75      0.73      0.74       145\n",
      "\n",
      "    accuracy                           0.74       562\n",
      "   macro avg       0.74      0.74      0.72       562\n",
      "weighted avg       0.74      0.74      0.72       562\n",
      "\n",
      "Test set:\n"
     ]
    },
    {
     "name": "stderr",
     "output_type": "stream",
     "text": [
      "100%|██████████| 134/134 [01:17<00:00,  1.73it/s]\n"
     ]
    },
    {
     "name": "stdout",
     "output_type": "stream",
     "text": [
      "              precision    recall  f1-score   support\n",
      "\n",
      "           0       0.78      0.72      0.75       705\n",
      "           1       0.54      0.40      0.46       321\n",
      "           2       0.84      0.94      0.89       840\n",
      "           3       0.66      0.73      0.69       273\n",
      "\n",
      "    accuracy                           0.76      2139\n",
      "   macro avg       0.70      0.70      0.70      2139\n",
      "weighted avg       0.75      0.76      0.75      2139\n",
      "\n"
     ]
    },
    {
     "name": "stderr",
     "output_type": "stream",
     "text": [
      "100%|██████████| 316/316 [05:34<00:00,  1.06s/it]\n"
     ]
    },
    {
     "name": "stdout",
     "output_type": "stream",
     "text": [
      "Epoch:  36\n",
      "Validation set:\n"
     ]
    },
    {
     "name": "stderr",
     "output_type": "stream",
     "text": [
      "100%|██████████| 36/36 [00:20<00:00,  1.80it/s]\n"
     ]
    },
    {
     "name": "stdout",
     "output_type": "stream",
     "text": [
      "              precision    recall  f1-score   support\n",
      "\n",
      "           0       0.69      0.85      0.76       139\n",
      "           1       0.72      0.43      0.54       138\n",
      "           2       0.81      0.96      0.88       140\n",
      "           3       0.75      0.73      0.74       145\n",
      "\n",
      "    accuracy                           0.74       562\n",
      "   macro avg       0.74      0.74      0.73       562\n",
      "weighted avg       0.74      0.74      0.73       562\n",
      "\n",
      "Test set:\n"
     ]
    },
    {
     "name": "stderr",
     "output_type": "stream",
     "text": [
      "100%|██████████| 134/134 [01:15<00:00,  1.77it/s]\n"
     ]
    },
    {
     "name": "stdout",
     "output_type": "stream",
     "text": [
      "              precision    recall  f1-score   support\n",
      "\n",
      "           0       0.76      0.75      0.76       705\n",
      "           1       0.55      0.30      0.39       321\n",
      "           2       0.86      0.92      0.89       840\n",
      "           3       0.57      0.78      0.66       273\n",
      "\n",
      "    accuracy                           0.75      2139\n",
      "   macro avg       0.69      0.69      0.67      2139\n",
      "weighted avg       0.74      0.75      0.74      2139\n",
      "\n"
     ]
    },
    {
     "name": "stderr",
     "output_type": "stream",
     "text": [
      "100%|██████████| 316/316 [05:33<00:00,  1.06s/it]\n"
     ]
    },
    {
     "name": "stdout",
     "output_type": "stream",
     "text": [
      "Epoch:  37\n",
      "Validation set:\n"
     ]
    },
    {
     "name": "stderr",
     "output_type": "stream",
     "text": [
      "100%|██████████| 36/36 [00:20<00:00,  1.75it/s]\n"
     ]
    },
    {
     "name": "stdout",
     "output_type": "stream",
     "text": [
      "              precision    recall  f1-score   support\n",
      "\n",
      "           0       0.77      0.78      0.78       139\n",
      "           1       0.68      0.67      0.68       138\n",
      "           2       0.87      0.90      0.88       140\n",
      "           3       0.78      0.74      0.76       145\n",
      "\n",
      "    accuracy                           0.78       562\n",
      "   macro avg       0.77      0.78      0.77       562\n",
      "weighted avg       0.77      0.78      0.78       562\n",
      "\n",
      "Test set:\n"
     ]
    },
    {
     "name": "stderr",
     "output_type": "stream",
     "text": [
      "100%|██████████| 134/134 [01:16<00:00,  1.75it/s]\n"
     ]
    },
    {
     "name": "stdout",
     "output_type": "stream",
     "text": [
      "              precision    recall  f1-score   support\n",
      "\n",
      "           0       0.76      0.74      0.75       705\n",
      "           1       0.49      0.50      0.49       321\n",
      "           2       0.94      0.88      0.91       840\n",
      "           3       0.55      0.67      0.60       273\n",
      "\n",
      "    accuracy                           0.75      2139\n",
      "   macro avg       0.68      0.70      0.69      2139\n",
      "weighted avg       0.76      0.75      0.76      2139\n",
      "\n"
     ]
    },
    {
     "name": "stderr",
     "output_type": "stream",
     "text": [
      "100%|██████████| 316/316 [05:34<00:00,  1.06s/it]\n"
     ]
    },
    {
     "name": "stdout",
     "output_type": "stream",
     "text": [
      "Epoch:  38\n",
      "Validation set:\n"
     ]
    },
    {
     "name": "stderr",
     "output_type": "stream",
     "text": [
      "100%|██████████| 36/36 [00:20<00:00,  1.79it/s]\n"
     ]
    },
    {
     "name": "stdout",
     "output_type": "stream",
     "text": [
      "              precision    recall  f1-score   support\n",
      "\n",
      "           0       0.76      0.87      0.81       139\n",
      "           1       0.73      0.53      0.61       138\n",
      "           2       0.77      0.89      0.83       140\n",
      "           3       0.76      0.74      0.75       145\n",
      "\n",
      "    accuracy                           0.76       562\n",
      "   macro avg       0.76      0.76      0.75       562\n",
      "weighted avg       0.76      0.76      0.75       562\n",
      "\n",
      "Test set:\n"
     ]
    },
    {
     "name": "stderr",
     "output_type": "stream",
     "text": [
      "100%|██████████| 134/134 [01:14<00:00,  1.79it/s]\n"
     ]
    },
    {
     "name": "stdout",
     "output_type": "stream",
     "text": [
      "              precision    recall  f1-score   support\n",
      "\n",
      "           0       0.77      0.74      0.75       705\n",
      "           1       0.52      0.42      0.46       321\n",
      "           2       0.88      0.91      0.90       840\n",
      "           3       0.66      0.78      0.72       273\n",
      "\n",
      "    accuracy                           0.77      2139\n",
      "   macro avg       0.71      0.71      0.71      2139\n",
      "weighted avg       0.76      0.77      0.76      2139\n",
      "\n"
     ]
    },
    {
     "name": "stderr",
     "output_type": "stream",
     "text": [
      "100%|██████████| 316/316 [05:33<00:00,  1.06s/it]\n"
     ]
    },
    {
     "name": "stdout",
     "output_type": "stream",
     "text": [
      "Epoch:  39\n",
      "Validation set:\n"
     ]
    },
    {
     "name": "stderr",
     "output_type": "stream",
     "text": [
      "100%|██████████| 36/36 [00:20<00:00,  1.79it/s]\n"
     ]
    },
    {
     "name": "stdout",
     "output_type": "stream",
     "text": [
      "              precision    recall  f1-score   support\n",
      "\n",
      "           0       0.79      0.68      0.73       139\n",
      "           1       0.57      0.72      0.63       138\n",
      "           2       0.86      0.91      0.88       140\n",
      "           3       0.80      0.65      0.71       145\n",
      "\n",
      "    accuracy                           0.74       562\n",
      "   macro avg       0.75      0.74      0.74       562\n",
      "weighted avg       0.75      0.74      0.74       562\n",
      "\n",
      "Test set:\n"
     ]
    },
    {
     "name": "stderr",
     "output_type": "stream",
     "text": [
      "100%|██████████| 134/134 [01:17<00:00,  1.74it/s]\n"
     ]
    },
    {
     "name": "stdout",
     "output_type": "stream",
     "text": [
      "              precision    recall  f1-score   support\n",
      "\n",
      "           0       0.85      0.66      0.74       705\n",
      "           1       0.44      0.68      0.54       321\n",
      "           2       0.92      0.90      0.91       840\n",
      "           3       0.58      0.59      0.58       273\n",
      "\n",
      "    accuracy                           0.75      2139\n",
      "   macro avg       0.70      0.71      0.69      2139\n",
      "weighted avg       0.78      0.75      0.76      2139\n",
      "\n"
     ]
    },
    {
     "name": "stderr",
     "output_type": "stream",
     "text": [
      "100%|██████████| 316/316 [05:33<00:00,  1.06s/it]\n"
     ]
    },
    {
     "name": "stdout",
     "output_type": "stream",
     "text": [
      "Epoch:  40\n",
      "Validation set:\n"
     ]
    },
    {
     "name": "stderr",
     "output_type": "stream",
     "text": [
      "100%|██████████| 36/36 [00:20<00:00,  1.79it/s]\n"
     ]
    },
    {
     "name": "stdout",
     "output_type": "stream",
     "text": [
      "              precision    recall  f1-score   support\n",
      "\n",
      "           0       0.78      0.77      0.77       139\n",
      "           1       0.71      0.54      0.62       138\n",
      "           2       0.78      0.95      0.86       140\n",
      "           3       0.76      0.77      0.76       145\n",
      "\n",
      "    accuracy                           0.76       562\n",
      "   macro avg       0.76      0.76      0.75       562\n",
      "weighted avg       0.76      0.76      0.75       562\n",
      "\n",
      "Test set:\n"
     ]
    },
    {
     "name": "stderr",
     "output_type": "stream",
     "text": [
      "100%|██████████| 134/134 [01:16<00:00,  1.74it/s]\n"
     ]
    },
    {
     "name": "stdout",
     "output_type": "stream",
     "text": [
      "              precision    recall  f1-score   support\n",
      "\n",
      "           0       0.79      0.69      0.74       705\n",
      "           1       0.52      0.42      0.46       321\n",
      "           2       0.85      0.93      0.89       840\n",
      "           3       0.61      0.75      0.67       273\n",
      "\n",
      "    accuracy                           0.75      2139\n",
      "   macro avg       0.69      0.70      0.69      2139\n",
      "weighted avg       0.75      0.75      0.75      2139\n",
      "\n"
     ]
    },
    {
     "name": "stderr",
     "output_type": "stream",
     "text": [
      "100%|██████████| 316/316 [05:33<00:00,  1.06s/it]\n"
     ]
    },
    {
     "name": "stdout",
     "output_type": "stream",
     "text": [
      "Epoch:  41\n",
      "Validation set:\n"
     ]
    },
    {
     "name": "stderr",
     "output_type": "stream",
     "text": [
      "100%|██████████| 36/36 [00:20<00:00,  1.73it/s]\n"
     ]
    },
    {
     "name": "stdout",
     "output_type": "stream",
     "text": [
      "              precision    recall  f1-score   support\n",
      "\n",
      "           0       0.75      0.77      0.76       139\n",
      "           1       0.67      0.52      0.59       138\n",
      "           2       0.84      0.89      0.87       140\n",
      "           3       0.72      0.81      0.76       145\n",
      "\n",
      "    accuracy                           0.75       562\n",
      "   macro avg       0.74      0.75      0.74       562\n",
      "weighted avg       0.74      0.75      0.74       562\n",
      "\n",
      "Test set:\n"
     ]
    },
    {
     "name": "stderr",
     "output_type": "stream",
     "text": [
      "100%|██████████| 134/134 [01:16<00:00,  1.76it/s]\n"
     ]
    },
    {
     "name": "stdout",
     "output_type": "stream",
     "text": [
      "              precision    recall  f1-score   support\n",
      "\n",
      "           0       0.80      0.69      0.74       705\n",
      "           1       0.54      0.42      0.47       321\n",
      "           2       0.89      0.93      0.91       840\n",
      "           3       0.53      0.78      0.63       273\n",
      "\n",
      "    accuracy                           0.76      2139\n",
      "   macro avg       0.69      0.70      0.69      2139\n",
      "weighted avg       0.76      0.76      0.75      2139\n",
      "\n"
     ]
    },
    {
     "name": "stderr",
     "output_type": "stream",
     "text": [
      "100%|██████████| 316/316 [05:33<00:00,  1.06s/it]\n"
     ]
    },
    {
     "name": "stdout",
     "output_type": "stream",
     "text": [
      "Epoch:  42\n",
      "Validation set:\n"
     ]
    },
    {
     "name": "stderr",
     "output_type": "stream",
     "text": [
      "100%|██████████| 36/36 [00:20<00:00,  1.77it/s]\n"
     ]
    },
    {
     "name": "stdout",
     "output_type": "stream",
     "text": [
      "              precision    recall  f1-score   support\n",
      "\n",
      "           0       0.71      0.87      0.78       139\n",
      "           1       0.73      0.65      0.69       138\n",
      "           2       0.85      0.91      0.88       140\n",
      "           3       0.85      0.69      0.76       145\n",
      "\n",
      "    accuracy                           0.78       562\n",
      "   macro avg       0.78      0.78      0.78       562\n",
      "weighted avg       0.79      0.78      0.78       562\n",
      "\n",
      "Test set:\n"
     ]
    },
    {
     "name": "stderr",
     "output_type": "stream",
     "text": [
      "100%|██████████| 134/134 [01:16<00:00,  1.75it/s]\n"
     ]
    },
    {
     "name": "stdout",
     "output_type": "stream",
     "text": [
      "              precision    recall  f1-score   support\n",
      "\n",
      "           0       0.75      0.82      0.78       705\n",
      "           1       0.50      0.49      0.49       321\n",
      "           2       0.91      0.90      0.91       840\n",
      "           3       0.70      0.58      0.63       273\n",
      "\n",
      "    accuracy                           0.77      2139\n",
      "   macro avg       0.72      0.70      0.70      2139\n",
      "weighted avg       0.77      0.77      0.77      2139\n",
      "\n"
     ]
    },
    {
     "name": "stderr",
     "output_type": "stream",
     "text": [
      "100%|██████████| 316/316 [05:33<00:00,  1.05s/it]\n"
     ]
    },
    {
     "name": "stdout",
     "output_type": "stream",
     "text": [
      "Epoch:  43\n",
      "Validation set:\n"
     ]
    },
    {
     "name": "stderr",
     "output_type": "stream",
     "text": [
      "100%|██████████| 36/36 [00:20<00:00,  1.80it/s]\n"
     ]
    },
    {
     "name": "stdout",
     "output_type": "stream",
     "text": [
      "              precision    recall  f1-score   support\n",
      "\n",
      "           0       0.74      0.85      0.79       139\n",
      "           1       0.67      0.63      0.65       138\n",
      "           2       0.85      0.91      0.88       140\n",
      "           3       0.87      0.73      0.79       145\n",
      "\n",
      "    accuracy                           0.78       562\n",
      "   macro avg       0.78      0.78      0.78       562\n",
      "weighted avg       0.78      0.78      0.78       562\n",
      "\n",
      "Test set:\n"
     ]
    },
    {
     "name": "stderr",
     "output_type": "stream",
     "text": [
      "100%|██████████| 134/134 [01:14<00:00,  1.80it/s]\n"
     ]
    },
    {
     "name": "stdout",
     "output_type": "stream",
     "text": [
      "              precision    recall  f1-score   support\n",
      "\n",
      "           0       0.81      0.78      0.79       705\n",
      "           1       0.56      0.56      0.56       321\n",
      "           2       0.90      0.93      0.91       840\n",
      "           3       0.72      0.71      0.72       273\n",
      "\n",
      "    accuracy                           0.80      2139\n",
      "   macro avg       0.75      0.75      0.75      2139\n",
      "weighted avg       0.80      0.80      0.80      2139\n",
      "\n"
     ]
    },
    {
     "name": "stderr",
     "output_type": "stream",
     "text": [
      "100%|██████████| 316/316 [05:33<00:00,  1.06s/it]\n"
     ]
    },
    {
     "name": "stdout",
     "output_type": "stream",
     "text": [
      "Epoch:  44\n",
      "Validation set:\n"
     ]
    },
    {
     "name": "stderr",
     "output_type": "stream",
     "text": [
      "100%|██████████| 36/36 [00:20<00:00,  1.79it/s]\n"
     ]
    },
    {
     "name": "stdout",
     "output_type": "stream",
     "text": [
      "              precision    recall  f1-score   support\n",
      "\n",
      "           0       0.79      0.83      0.81       139\n",
      "           1       0.69      0.63      0.66       138\n",
      "           2       0.85      0.96      0.90       140\n",
      "           3       0.77      0.70      0.74       145\n",
      "\n",
      "    accuracy                           0.78       562\n",
      "   macro avg       0.77      0.78      0.78       562\n",
      "weighted avg       0.78      0.78      0.78       562\n",
      "\n",
      "Test set:\n"
     ]
    },
    {
     "name": "stderr",
     "output_type": "stream",
     "text": [
      "100%|██████████| 134/134 [01:16<00:00,  1.75it/s]\n"
     ]
    },
    {
     "name": "stdout",
     "output_type": "stream",
     "text": [
      "              precision    recall  f1-score   support\n",
      "\n",
      "           0       0.80      0.71      0.75       705\n",
      "           1       0.47      0.44      0.45       321\n",
      "           2       0.88      0.95      0.91       840\n",
      "           3       0.62      0.69      0.65       273\n",
      "\n",
      "    accuracy                           0.76      2139\n",
      "   macro avg       0.69      0.70      0.69      2139\n",
      "weighted avg       0.76      0.76      0.76      2139\n",
      "\n"
     ]
    },
    {
     "name": "stderr",
     "output_type": "stream",
     "text": [
      "100%|██████████| 316/316 [05:33<00:00,  1.06s/it]\n"
     ]
    },
    {
     "name": "stdout",
     "output_type": "stream",
     "text": [
      "Epoch:  45\n",
      "Validation set:\n"
     ]
    },
    {
     "name": "stderr",
     "output_type": "stream",
     "text": [
      "100%|██████████| 36/36 [00:20<00:00,  1.80it/s]\n"
     ]
    },
    {
     "name": "stdout",
     "output_type": "stream",
     "text": [
      "              precision    recall  f1-score   support\n",
      "\n",
      "           0       0.75      0.88      0.81       139\n",
      "           1       0.71      0.63      0.67       138\n",
      "           2       0.86      0.91      0.89       140\n",
      "           3       0.84      0.74      0.79       145\n",
      "\n",
      "    accuracy                           0.79       562\n",
      "   macro avg       0.79      0.79      0.79       562\n",
      "weighted avg       0.79      0.79      0.79       562\n",
      "\n",
      "Test set:\n"
     ]
    },
    {
     "name": "stderr",
     "output_type": "stream",
     "text": [
      "100%|██████████| 134/134 [01:14<00:00,  1.80it/s]\n"
     ]
    },
    {
     "name": "stdout",
     "output_type": "stream",
     "text": [
      "              precision    recall  f1-score   support\n",
      "\n",
      "           0       0.78      0.78      0.78       705\n",
      "           1       0.53      0.47      0.50       321\n",
      "           2       0.90      0.91      0.91       840\n",
      "           3       0.65      0.71      0.68       273\n",
      "\n",
      "    accuracy                           0.78      2139\n",
      "   macro avg       0.72      0.72      0.72      2139\n",
      "weighted avg       0.77      0.78      0.77      2139\n",
      "\n"
     ]
    },
    {
     "name": "stderr",
     "output_type": "stream",
     "text": [
      "100%|██████████| 316/316 [05:33<00:00,  1.05s/it]\n"
     ]
    },
    {
     "name": "stdout",
     "output_type": "stream",
     "text": [
      "Epoch:  46\n",
      "Validation set:\n"
     ]
    },
    {
     "name": "stderr",
     "output_type": "stream",
     "text": [
      "100%|██████████| 36/36 [00:20<00:00,  1.77it/s]\n"
     ]
    },
    {
     "name": "stdout",
     "output_type": "stream",
     "text": [
      "              precision    recall  f1-score   support\n",
      "\n",
      "           0       0.78      0.76      0.77       139\n",
      "           1       0.65      0.74      0.69       138\n",
      "           2       0.80      0.91      0.85       140\n",
      "           3       0.87      0.66      0.75       145\n",
      "\n",
      "    accuracy                           0.77       562\n",
      "   macro avg       0.77      0.77      0.77       562\n",
      "weighted avg       0.78      0.77      0.77       562\n",
      "\n",
      "Test set:\n"
     ]
    },
    {
     "name": "stderr",
     "output_type": "stream",
     "text": [
      "100%|██████████| 134/134 [01:15<00:00,  1.76it/s]\n"
     ]
    },
    {
     "name": "stdout",
     "output_type": "stream",
     "text": [
      "              precision    recall  f1-score   support\n",
      "\n",
      "           0       0.81      0.72      0.77       705\n",
      "           1       0.45      0.55      0.49       321\n",
      "           2       0.88      0.93      0.90       840\n",
      "           3       0.59      0.49      0.53       273\n",
      "\n",
      "    accuracy                           0.75      2139\n",
      "   macro avg       0.68      0.67      0.67      2139\n",
      "weighted avg       0.75      0.75      0.75      2139\n",
      "\n"
     ]
    },
    {
     "name": "stderr",
     "output_type": "stream",
     "text": [
      "100%|██████████| 316/316 [05:32<00:00,  1.05s/it]\n"
     ]
    },
    {
     "name": "stdout",
     "output_type": "stream",
     "text": [
      "Epoch:  47\n",
      "Validation set:\n"
     ]
    },
    {
     "name": "stderr",
     "output_type": "stream",
     "text": [
      "100%|██████████| 36/36 [00:20<00:00,  1.79it/s]\n"
     ]
    },
    {
     "name": "stdout",
     "output_type": "stream",
     "text": [
      "              precision    recall  f1-score   support\n",
      "\n",
      "           0       0.76      0.87      0.81       139\n",
      "           1       0.64      0.72      0.68       138\n",
      "           2       0.96      0.84      0.89       140\n",
      "           3       0.85      0.73      0.79       145\n",
      "\n",
      "    accuracy                           0.79       562\n",
      "   macro avg       0.80      0.79      0.79       562\n",
      "weighted avg       0.80      0.79      0.79       562\n",
      "\n",
      "Test set:\n"
     ]
    },
    {
     "name": "stderr",
     "output_type": "stream",
     "text": [
      "100%|██████████| 134/134 [01:14<00:00,  1.79it/s]\n"
     ]
    },
    {
     "name": "stdout",
     "output_type": "stream",
     "text": [
      "              precision    recall  f1-score   support\n",
      "\n",
      "           0       0.80      0.73      0.76       705\n",
      "           1       0.45      0.61      0.52       321\n",
      "           2       0.93      0.87      0.90       840\n",
      "           3       0.59      0.61      0.60       273\n",
      "\n",
      "    accuracy                           0.75      2139\n",
      "   macro avg       0.69      0.70      0.69      2139\n",
      "weighted avg       0.77      0.75      0.76      2139\n",
      "\n"
     ]
    },
    {
     "name": "stderr",
     "output_type": "stream",
     "text": [
      "100%|██████████| 316/316 [05:33<00:00,  1.06s/it]\n"
     ]
    },
    {
     "name": "stdout",
     "output_type": "stream",
     "text": [
      "Epoch:  48\n",
      "Validation set:\n"
     ]
    },
    {
     "name": "stderr",
     "output_type": "stream",
     "text": [
      "100%|██████████| 36/36 [00:20<00:00,  1.79it/s]\n"
     ]
    },
    {
     "name": "stdout",
     "output_type": "stream",
     "text": [
      "              precision    recall  f1-score   support\n",
      "\n",
      "           0       0.77      0.89      0.82       139\n",
      "           1       0.66      0.69      0.67       138\n",
      "           2       0.89      0.84      0.87       140\n",
      "           3       0.86      0.73      0.79       145\n",
      "\n",
      "    accuracy                           0.79       562\n",
      "   macro avg       0.79      0.79      0.79       562\n",
      "weighted avg       0.80      0.79      0.79       562\n",
      "\n",
      "Test set:\n"
     ]
    },
    {
     "name": "stderr",
     "output_type": "stream",
     "text": [
      "100%|██████████| 134/134 [01:14<00:00,  1.79it/s]\n"
     ]
    },
    {
     "name": "stdout",
     "output_type": "stream",
     "text": [
      "              precision    recall  f1-score   support\n",
      "\n",
      "           0       0.81      0.80      0.81       705\n",
      "           1       0.47      0.54      0.50       321\n",
      "           2       0.92      0.87      0.90       840\n",
      "           3       0.68      0.70      0.69       273\n",
      "\n",
      "    accuracy                           0.78      2139\n",
      "   macro avg       0.72      0.73      0.72      2139\n",
      "weighted avg       0.79      0.78      0.78      2139\n",
      "\n"
     ]
    },
    {
     "name": "stderr",
     "output_type": "stream",
     "text": [
      "100%|██████████| 316/316 [05:33<00:00,  1.05s/it]\n"
     ]
    },
    {
     "name": "stdout",
     "output_type": "stream",
     "text": [
      "Epoch:  49\n",
      "Validation set:\n"
     ]
    },
    {
     "name": "stderr",
     "output_type": "stream",
     "text": [
      "100%|██████████| 36/36 [00:20<00:00,  1.79it/s]\n"
     ]
    },
    {
     "name": "stdout",
     "output_type": "stream",
     "text": [
      "              precision    recall  f1-score   support\n",
      "\n",
      "           0       0.73      0.83      0.78       139\n",
      "           1       0.64      0.69      0.66       138\n",
      "           2       0.93      0.86      0.89       140\n",
      "           3       0.84      0.73      0.78       145\n",
      "\n",
      "    accuracy                           0.78       562\n",
      "   macro avg       0.79      0.78      0.78       562\n",
      "weighted avg       0.79      0.78      0.78       562\n",
      "\n",
      "Test set:\n"
     ]
    },
    {
     "name": "stderr",
     "output_type": "stream",
     "text": [
      "100%|██████████| 134/134 [01:14<00:00,  1.80it/s]\n"
     ]
    },
    {
     "name": "stdout",
     "output_type": "stream",
     "text": [
      "              precision    recall  f1-score   support\n",
      "\n",
      "           0       0.78      0.81      0.79       705\n",
      "           1       0.48      0.58      0.52       321\n",
      "           2       0.95      0.85      0.90       840\n",
      "           3       0.72      0.69      0.70       273\n",
      "\n",
      "    accuracy                           0.78      2139\n",
      "   macro avg       0.73      0.73      0.73      2139\n",
      "weighted avg       0.79      0.78      0.78      2139\n",
      "\n",
      "[1.2983823, 1.0950648, 1.0086838, 0.9334627, 0.88181895, 0.8549291, 0.82750595, 0.7951213, 0.7830816, 0.7666727, 0.75798, 0.7429367, 0.7309045, 0.7286222, 0.7138082, 0.70162016, 0.69696265, 0.6876174, 0.67985266, 0.66725373, 0.66521513, 0.6505719, 0.6481393, 0.64843994, 0.63064796, 0.605747, 0.6205395, 0.60420555, 0.6009955, 0.58996904, 0.5809737, 0.5628071, 0.58045876, 0.55915254, 0.5591116, 0.5603815, 0.54770774, 0.54290754, 0.5266587, 0.5252504, 0.5150259, 0.5138166, 0.5040862, 0.51165235, 0.49120033, 0.4890688, 0.46303922, 0.47021234, 0.4621411, 0.45876297]\n"
     ]
    },
    {
     "data": {
      "image/png": "[encoded data removed]",
      "text/plain": [
       "<Figure size 640x480 with 1 Axes>"
      ]
     },
     "metadata": {},
     "output_type": "display_data"
    }
   ],
   "source": [
    "\n",
    "#train the model\n",
    "#train(model, val_dataloader, val_dataloader, optimizer, criterion, 20)\n",
    "\n",
    "train(model, train_dataloader, val_dataloader, optimizer, criterion, 50)"
   ]
  }
 ],
 "metadata": {
  "kernelspec": {
   "display_name": "Python 3",
   "language": "python",
   "name": "python3"
  },
  "language_info": {
   "codemirror_mode": {
    "name": "ipython",
    "version": 3
   },
   "file_extension": ".py",
   "mimetype": "text/x-python",
   "name": "python",
   "nbconvert_exporter": "python",
   "pygments_lexer": "ipython3",
   "version": "3.9.0"
  },
  "orig_nbformat": 4
 },
 "nbformat": 4,
 "nbformat_minor": 2
}
