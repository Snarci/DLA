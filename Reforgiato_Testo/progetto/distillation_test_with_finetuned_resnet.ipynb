{
 "cells": [
  {
   "cell_type": "code",
   "execution_count": null,
   "metadata": {},
   "outputs": [],
   "source": [
    "# ! pip3 install torch torchvision torchaudio --index-url https://download.pytorch.org/whl/cu118\n",
    "# ! pip3 install einops\n",
    "# ! pip3 install vit_pytorch\n",
    "# ! pip3 install pandas\n",
    "# ! pip3 install scikit-learn\n",
    "# ! pip3 install albumentations\n",
    "# ! pip3 install matplotlib\n",
    "# ! pip3 install transformers"
   ]
  },
  {
   "cell_type": "code",
   "execution_count": null,
   "metadata": {},
   "outputs": [],
   "source": [
    "import torch\n",
    "from torch import nn\n",
    "import torch.nn.functional as F\n",
    "from einops import repeat\n",
    "from einops.layers.torch import Rearrange\n",
    "from vit_pytorch.vit import Transformer\n",
    "\n",
    "import os\n",
    "import pandas as pd\n",
    "\n",
    "from sklearn.model_selection import train_test_split\n",
    "\n",
    "import albumentations as A\n",
    "from albumentations.pytorch import ToTensorV2\n",
    "\n",
    "from torch.utils.data import Dataset, DataLoader\n",
    "\n",
    "import numpy as np\n",
    "\n",
    "import transformers\n"
   ]
  },
  {
   "cell_type": "code",
   "execution_count": null,
   "metadata": {},
   "outputs": [],
   "source": [
    "import datasets_utils\n",
    "train_loader, val_loader, test_loader, classes , img_size = datasets_utils.get_Chaoyang_loaders(BATCH_SIZE=64, SEED=42)\n",
    "# train_loader, val_loader, test_loader, classes , img_size= datasets_utils.get_CUB_loaders(BATCH_SIZE=256, SEED=42, SPLITS=[0.50,0.25,0.25])\n",
    "# train_loader, val_loader, test_loader, classes , img_size = datasets_utils.get_vegetables_dataloader(BATCH_SIZE=32, SEED=42, SPLITS=[0.50,0.25,0.25])\n",
    "N_CLASSES = len(classes)"
   ]
  },
  {
   "cell_type": "code",
   "execution_count": null,
   "metadata": {},
   "outputs": [],
   "source": [
    "device = torch.device('cuda' if torch.cuda.is_available() else 'cpu')"
   ]
  },
  {
   "cell_type": "code",
   "execution_count": null,
   "metadata": {},
   "outputs": [],
   "source": [
    "# loadedmodel = torch.load('jacoExperiments/best_distilled_model.pth')\n",
    "# distiller.load_state_dict(loadedmodel['model_state_dict'])\n"
   ]
  },
  {
   "cell_type": "markdown",
   "metadata": {},
   "source": []
  },
  {
   "cell_type": "code",
   "execution_count": null,
   "metadata": {},
   "outputs": [],
   "source": [
    "from torchvision.models import resnet50\n",
    "\n",
    "from vit_pytorch.distill import DistillableViT, DistillWrapper\n",
    "\n",
    "teacher = resnet50(pretrained = True)\n",
    "teacher.fc = nn.Linear(teacher.fc.in_features, N_CLASSES)\n",
    "resnet50_loaded = torch.load('jacoExperiments/resnet50_finetuned_sulle_cellule.pth')\n",
    "teacher.load_state_dict(resnet50_loaded)\n",
    "teacher = teacher.to(device)\n",
    "\n",
    "student_vit = DistillableViT(\n",
    "    image_size = img_size,\n",
    "    patch_size = 32,\n",
    "    num_classes = N_CLASSES,\n",
    "    dim = 1024,\n",
    "    depth = 6,\n",
    "    heads = 8,\n",
    "    mlp_dim = 2048,\n",
    "    dropout = 0.1,\n",
    "    emb_dropout = 0.1\n",
    ")\n",
    "student_vit = student_vit.to(device)\n",
    "\n",
    "distiller = DistillWrapper(\n",
    "    student = student_vit,\n",
    "    teacher = teacher,\n",
    "    temperature = 3,           # temperature of distillation\n",
    "    alpha = 0.5,               # trade between main loss and distillation loss\n",
    "    hard = False               # whether to use soft or hard distillation\n",
    ")\n",
    "distiller = distiller.to(device)"
   ]
  },
  {
   "cell_type": "code",
   "execution_count": null,
   "metadata": {},
   "outputs": [],
   "source": [
    "#train loop\n",
    "def train(model,train_loader,val_loader,epochs=10,lr=1e-2):\n",
    "    current_valid_loss , best_valid_loss = float('inf'), float('inf')\n",
    "\n",
    "    optimizer = torch.optim.Adam(model.parameters(),lr=lr)\n",
    "    train_loss = []\n",
    "    val_loss = []\n",
    "    for epoch in range(epochs):\n",
    "        model.train()\n",
    "        train_loss_ = []\n",
    "        val_loss_ = []\n",
    "        for i,(images,classes) in enumerate(train_loader):\n",
    "            images = datasets_utils.convert_images_dict_to_tensor(images, resize=256)\n",
    "\n",
    "            images = images.to(device)\n",
    "            classes = classes.to(device)\n",
    "            optimizer.zero_grad()\n",
    "            loss = model(images, classes)\n",
    "            loss.backward()\n",
    "            optimizer.step()\n",
    "            train_loss_.append(loss.item())\n",
    "            # #every 100 batches, print the loss\n",
    "        train_loss.append(np.mean(train_loss_))\n",
    "        \n",
    "        model.eval()\n",
    "        with torch.no_grad():\n",
    "            for i,(images,classes) in enumerate(val_loader):\n",
    "                images = datasets_utils.convert_images_dict_to_tensor(images, resize=256)\n",
    "\n",
    "                    \n",
    "                images = images.to(device)\n",
    "                classes = classes.to(device)\n",
    "                loss = model(images, classes)\n",
    "\n",
    "                current_valid_loss = loss.item()\n",
    "                val_loss_.append(loss.item())\n",
    "               \n",
    "            mean_loss = np.mean(val_loss_)\n",
    "            current_valid_loss = mean_loss\n",
    "            if current_valid_loss < best_valid_loss:\n",
    "                best_valid_loss = current_valid_loss\n",
    "                print(f\"\\nBest validation loss: {best_valid_loss}\")\n",
    "                print(f\"\\nSaving best model for epoch: {epoch+1}\\n\")\n",
    "                torch.save(model.state_dict(), 'jacoExperiments/BESt_distilled_model_with_resnet50_already_finetuned.pth')\n",
    "            val_loss.append(mean_loss)\n",
    "        print(f'Epoch: {epoch+1}, Train Loss: {train_loss[-1]}, Val Loss: {val_loss[-1]}')\n",
    "\n",
    "        #save the model\n",
    "        torch.save(model.state_dict(),f'jacoExperiments/last_distilled_model_with_resnet50_already_finetuned.pth')\n",
    "        \n",
    "    return train_loss,val_loss"
   ]
  },
  {
   "cell_type": "code",
   "execution_count": null,
   "metadata": {},
   "outputs": [],
   "source": [
    "train_loss,val_loss = train(distiller, train_loader,val_loader,epochs=500,lr=1e-4)\n",
    "# images shape:  <class 'transformers.image_processing_utils.BatchFeature'>\n",
    "# classes shape:  torch.Size([64])"
   ]
  },
  {
   "attachments": {},
   "cell_type": "markdown",
   "metadata": {},
   "source": [
    "# PER SNARCINO"
   ]
  },
  {
   "cell_type": "code",
   "execution_count": null,
   "metadata": {},
   "outputs": [],
   "source": [
    "loadedmodel = torch.load('jacoExperiments/last_distilled_model_with_resnet50_already_finetuned.pth')\n",
    "print(loadedmodel)\n",
    "distiller.load_state_dict(loadedmodel)\n",
    "\n",
    "# get vit from distiller\n",
    "student_vit = distiller.student\n",
    "student_vit.to(device)"
   ]
  },
  {
   "cell_type": "code",
   "execution_count": null,
   "metadata": {},
   "outputs": [],
   "source": [
    "# pred = student_vit(test_loader) # (2, 1000)\n",
    "student_vit.eval()\n",
    "with torch.no_grad():\n",
    "    y_predicted=[]\n",
    "    y_real=[]\n",
    "    for i,(images,classes) in enumerate(test_loader):\n",
    "        images = datasets_utils.convert_images_dict_to_tensor(images, resize=256)\n",
    "        images = images.to(device)\n",
    "        classes = classes.to(device)\n",
    "        y_real.extend(classes.cpu().numpy().tolist())\n",
    "\n",
    "        pred = student_vit(images)\n",
    "        # from pred of shape 64,4 get the index of the max value for each row\n",
    "        pred = torch.argmax(pred, dim=1)\n",
    "        y_predicted.extend(pred.cpu().numpy().tolist())\n",
    "\n",
    "\n",
    "acc = sum(1 for x,y in zip(y_real,y_predicted) if x == y) / float(len(y_real))\n",
    "print(acc)\n",
    "        \n"
   ]
  },
  {
   "cell_type": "code",
   "execution_count": null,
   "metadata": {},
   "outputs": [],
   "source": [
    "# The DistillableViT class is identical to ViT except for how the forward pass is handled, \n",
    "# so you should be able to load the parameters back to ViT after you have completed distillation training.\n",
    "\n",
    "# TODO: It might be uselful if we want to use a custom vit\n",
    "student_vit = student_vit.to_vit()\n",
    "type(student_vit) # <class 'vit_pytorch.vit_pytorch.ViT'>"
   ]
  },
  {
   "cell_type": "code",
   "execution_count": null,
   "metadata": {},
   "outputs": [],
   "source": []
  }
 ],
 "metadata": {
  "kernelspec": {
   "display_name": "dl_refo_project",
   "language": "python",
   "name": "python3"
  },
  "language_info": {
   "codemirror_mode": {
    "name": "ipython",
    "version": 3
   },
   "file_extension": ".py",
   "mimetype": "text/x-python",
   "name": "python",
   "nbconvert_exporter": "python",
   "pygments_lexer": "ipython3",
   "version": "3.10.10"
  },
  "orig_nbformat": 4,
  "vscode": {
   "interpreter": {
    "hash": "cbde0c4279c3ddc2983b0416a35647bb63e8617f6532d6730a8523f4e3df93a4"
   }
  }
 },
 "nbformat": 4,
 "nbformat_minor": 2
}
