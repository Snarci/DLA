{
 "cells": [
  {
   "cell_type": "code",
   "execution_count": null,
   "metadata": {},
   "outputs": [],
   "source": [
    "from __future__ import print_function\n",
    "import glob\n",
    "from itertools import chain\n",
    "import os\n",
    "import random\n",
    "import zipfile\n",
    "import matplotlib.pyplot as plt\n",
    "import numpy as np\n",
    "import pandas as pd\n",
    "import torch\n",
    "import torch.nn as nn\n",
    "import torch.nn.functional as F\n",
    "import torch.optim as optim\n",
    "from PIL import Image\n",
    "from sklearn.model_selection import train_test_split\n",
    "from torch.optim.lr_scheduler import StepLR\n",
    "from torch.utils.data import DataLoader, Dataset\n",
    "from torchvision import datasets, transforms\n",
    "from tqdm import tqdm,tqdm_notebook"
   ]
  },
  {
   "cell_type": "code",
   "execution_count": null,
   "metadata": {},
   "outputs": [],
   "source": [
    "print(f\"Torch: {torch.__version__}\")"
   ]
  },
  {
   "cell_type": "code",
   "execution_count": null,
   "metadata": {},
   "outputs": [],
   "source": [
    "os.makedirs('data', exist_ok=True)\n",
    "images_dir = 'images/images'\n",
    "train_list = glob.glob(os.path.join(images_dir,'*/*.jpg'))\n",
    "if debug_mode:\n",
    "    # keep only the first 100 images\n",
    "    train_list = train_list[:100]\n",
    "print(f\"Number of total images: {len(train_list)}\")\n",
    "\n",
    "#split train and validation and test\n",
    "train_list, test_list = train_test_split(train_list, test_size=0.1, random_state=seed)\n",
    "train_list, val_list = train_test_split(train_list, test_size=0.1, random_state=seed)\n",
    "\n",
    "print(f\"Number of train images: {len(train_list)}\")\n",
    "print(f\"Number of validation images: {len(val_list)}\")\n",
    "print(f\"Number of test images: {len(test_list)}\")\n",
    "\n",
    "labels = [os.path.split(os.path.split(path)[0])[1] for path in train_list]\n",
    "# kkep only unique labels\n",
    "labels = list(set(labels))\n",
    "print(\"The labels are:\" ,labels)"
   ]
  },
  {
   "cell_type": "code",
   "execution_count": null,
   "metadata": {},
   "outputs": [],
   "source": [
    "#shwo the distribution of the classes\n",
    "plt.figure(figsize=(10,5))\n",
    "plt.hist(labels, bins=len(labels))\n",
    "plt.xticks(rotation=90)\n",
    "plt.show()\n"
   ]
  },
  {
   "cell_type": "code",
   "execution_count": null,
   "metadata": {},
   "outputs": [],
   "source": []
  },
  {
   "cell_type": "code",
   "execution_count": null,
   "metadata": {},
   "outputs": [],
   "source": []
  },
  {
   "cell_type": "code",
   "execution_count": null,
   "metadata": {},
   "outputs": [],
   "source": []
  }
 ],
 "metadata": {
  "kernelspec": {
   "display_name": "Python 3",
   "language": "python",
   "name": "python3"
  },
  "language_info": {
   "name": "python",
   "version": "3.10.4"
  },
  "orig_nbformat": 4,
  "vscode": {
   "interpreter": {
    "hash": "369f2c481f4da34e4445cda3fffd2e751bd1c4d706f27375911949ba6bb62e1c"
   }
  }
 },
 "nbformat": 4,
 "nbformat_minor": 2
}
